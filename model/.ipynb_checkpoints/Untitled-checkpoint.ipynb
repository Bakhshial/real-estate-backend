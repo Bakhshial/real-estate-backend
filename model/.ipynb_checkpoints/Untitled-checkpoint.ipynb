{
 "cells": [
  {
   "cell_type": "markdown",
   "id": "a6e044e5-1417-48e2-8d35-09814157d86d",
   "metadata": {},
   "source": [
    "### 1. Introduction\n",
    "### 2. Data Collection and Loading\n",
    "### 3. Data Exploration and Cleaning\n",
    "### 3. Data Preprocessing\n",
    "### 4. Model Building\n",
    "### 5. Evaluation\n",
    "### 7.Deployment Preparation"
   ]
  },
  {
   "cell_type": "markdown",
   "id": "99c3b92b-6417-407f-9974-38e58154cef8",
   "metadata": {},
   "source": [
    "### 1. Introduction\n",
    "The goal of this project is to analyze and model the **real estate market in Karachi**, specifically focusing on residential property prices. By examining key property attributes—such as location, area (in square feet), number of bedrooms, and number of bathrooms—we aim to gain insights into the factors that influence property prices and build a **predictive model to estimate property values**.\n",
    "\n",
    "Accurate price predictions are essential for various stakeholders, including property buyers, sellers, investors, and real estate agencies, to make informed decisions. Using this model, potential buyers and sellers can better understand the market value of properties, allowing them to make data-driven pricing decisions."
   ]
  },
  {
   "cell_type": "markdown",
   "id": "c2148899-ec22-4cfc-9df0-ce17a33fc9af",
   "metadata": {},
   "source": [
    "### 2. Data Collection and Loading"
   ]
  },
  {
   "cell_type": "code",
   "execution_count": 10,
   "id": "555bd756-25cf-4bb1-9c64-8dc175ae918f",
   "metadata": {},
   "outputs": [
    {
     "name": "stdout",
     "output_type": "stream",
     "text": [
      "['Lahore' 'Karachi' 'Islamabad' 'Faisalabad' 'Rawalpindi']\n"
     ]
    },
    {
     "data": {
      "text/plain": [
       "(191393, 24)"
      ]
     },
     "execution_count": 10,
     "metadata": {},
     "output_type": "execute_result"
    }
   ],
   "source": [
    "import pandas as pd\n",
    "import numpy as np\n",
    "import matplotlib.pyplot as plt\n",
    "import seaborn as sns\n",
    "%matplotlib inline\n",
    "import matplotlib\n",
    "matplotlib.rcParams[\"figure.figsize\"] = (20, 10)\n",
    "\n",
    "# Load dataset\n",
    "df = pd.read_csv(\"Property_with_Feature_Engineering.csv\")\n",
    "\n",
    "# Display cities for future subsetting\n",
    "print(df[\"city\"].unique())\n",
    "df.shape"
   ]
  },
  {
   "cell_type": "code",
   "execution_count": 11,
   "id": "c5e2b542-7fab-43ff-a669-e0297d3bf646",
   "metadata": {},
   "outputs": [
    {
     "data": {
      "text/plain": [
       "(60484, 24)"
      ]
     },
     "execution_count": 11,
     "metadata": {},
     "output_type": "execute_result"
    }
   ],
   "source": [
    "df = df[df[\"city\"] == \"Karachi\"] # Subsetting the data with respect to Karachi\n",
    "df.shape"
   ]
  },
  {
   "cell_type": "code",
   "execution_count": 12,
   "id": "e5123e65-d954-4808-84dd-8ef19165ff7b",
   "metadata": {},
   "outputs": [
    {
     "data": {
      "text/html": [
       "<div>\n",
       "<style scoped>\n",
       "    .dataframe tbody tr th:only-of-type {\n",
       "        vertical-align: middle;\n",
       "    }\n",
       "\n",
       "    .dataframe tbody tr th {\n",
       "        vertical-align: top;\n",
       "    }\n",
       "\n",
       "    .dataframe thead th {\n",
       "        text-align: right;\n",
       "    }\n",
       "</style>\n",
       "<table border=\"1\" class=\"dataframe\">\n",
       "  <thead>\n",
       "    <tr style=\"text-align: right;\">\n",
       "      <th></th>\n",
       "      <th>property_id</th>\n",
       "      <th>location_id</th>\n",
       "      <th>page_url</th>\n",
       "      <th>property_type</th>\n",
       "      <th>price</th>\n",
       "      <th>price_bin</th>\n",
       "      <th>location</th>\n",
       "      <th>city</th>\n",
       "      <th>province_name</th>\n",
       "      <th>locality</th>\n",
       "      <th>...</th>\n",
       "      <th>area_marla</th>\n",
       "      <th>area_sqft</th>\n",
       "      <th>purpose</th>\n",
       "      <th>bedrooms</th>\n",
       "      <th>date_added</th>\n",
       "      <th>year</th>\n",
       "      <th>month</th>\n",
       "      <th>day</th>\n",
       "      <th>agency</th>\n",
       "      <th>agent</th>\n",
       "    </tr>\n",
       "  </thead>\n",
       "  <tbody>\n",
       "    <tr>\n",
       "      <th>217</th>\n",
       "      <td>86575</td>\n",
       "      <td>6649</td>\n",
       "      <td>https://www.zameen.com/Property/faisal_cantonm...</td>\n",
       "      <td>House</td>\n",
       "      <td>450000000</td>\n",
       "      <td>Very High</td>\n",
       "      <td>Cantt</td>\n",
       "      <td>Karachi</td>\n",
       "      <td>Sindh</td>\n",
       "      <td>Cantt, Karachi, Sindh</td>\n",
       "      <td>...</td>\n",
       "      <td>80.0</td>\n",
       "      <td>21780.08</td>\n",
       "      <td>For Sale</td>\n",
       "      <td>6</td>\n",
       "      <td>06-20-2019</td>\n",
       "      <td>2019</td>\n",
       "      <td>6</td>\n",
       "      <td>20</td>\n",
       "      <td>Premier Properties</td>\n",
       "      <td>Aamir Motiwala</td>\n",
       "    </tr>\n",
       "    <tr>\n",
       "      <th>218</th>\n",
       "      <td>342005</td>\n",
       "      <td>232</td>\n",
       "      <td>https://www.zameen.com/Property/karachi_gulist...</td>\n",
       "      <td>House</td>\n",
       "      <td>35000000</td>\n",
       "      <td>Very High</td>\n",
       "      <td>Gulistan-e-Jauhar</td>\n",
       "      <td>Karachi</td>\n",
       "      <td>Sindh</td>\n",
       "      <td>Gulistan-e-Jauhar, Karachi, Sindh</td>\n",
       "      <td>...</td>\n",
       "      <td>16.0</td>\n",
       "      <td>4356.02</td>\n",
       "      <td>For Sale</td>\n",
       "      <td>6</td>\n",
       "      <td>07-18-2019</td>\n",
       "      <td>2019</td>\n",
       "      <td>7</td>\n",
       "      <td>18</td>\n",
       "      <td>NaN</td>\n",
       "      <td>NaN</td>\n",
       "    </tr>\n",
       "    <tr>\n",
       "      <th>219</th>\n",
       "      <td>466607</td>\n",
       "      <td>1484</td>\n",
       "      <td>https://www.zameen.com/Property/d_h_a_dha_phas...</td>\n",
       "      <td>Flat</td>\n",
       "      <td>21000000</td>\n",
       "      <td>Very High</td>\n",
       "      <td>DHA Defence</td>\n",
       "      <td>Karachi</td>\n",
       "      <td>Sindh</td>\n",
       "      <td>DHA Defence, Karachi, Sindh</td>\n",
       "      <td>...</td>\n",
       "      <td>8.9</td>\n",
       "      <td>2423.03</td>\n",
       "      <td>For Sale</td>\n",
       "      <td>3</td>\n",
       "      <td>10-20-2018</td>\n",
       "      <td>2018</td>\n",
       "      <td>10</td>\n",
       "      <td>20</td>\n",
       "      <td>NaN</td>\n",
       "      <td>NaN</td>\n",
       "    </tr>\n",
       "  </tbody>\n",
       "</table>\n",
       "<p>3 rows × 24 columns</p>\n",
       "</div>"
      ],
      "text/plain": [
       "     property_id  location_id  \\\n",
       "217        86575         6649   \n",
       "218       342005          232   \n",
       "219       466607         1484   \n",
       "\n",
       "                                              page_url property_type  \\\n",
       "217  https://www.zameen.com/Property/faisal_cantonm...         House   \n",
       "218  https://www.zameen.com/Property/karachi_gulist...         House   \n",
       "219  https://www.zameen.com/Property/d_h_a_dha_phas...          Flat   \n",
       "\n",
       "         price  price_bin           location     city province_name  \\\n",
       "217  450000000  Very High              Cantt  Karachi         Sindh   \n",
       "218   35000000  Very High  Gulistan-e-Jauhar  Karachi         Sindh   \n",
       "219   21000000  Very High        DHA Defence  Karachi         Sindh   \n",
       "\n",
       "                              locality  ...  area_marla  area_sqft   purpose  \\\n",
       "217              Cantt, Karachi, Sindh  ...        80.0   21780.08  For Sale   \n",
       "218  Gulistan-e-Jauhar, Karachi, Sindh  ...        16.0    4356.02  For Sale   \n",
       "219        DHA Defence, Karachi, Sindh  ...         8.9    2423.03  For Sale   \n",
       "\n",
       "    bedrooms  date_added  year month  day              agency           agent  \n",
       "217        6  06-20-2019  2019     6   20  Premier Properties  Aamir Motiwala  \n",
       "218        6  07-18-2019  2019     7   18                 NaN             NaN  \n",
       "219        3  10-20-2018  2018    10   20                 NaN             NaN  \n",
       "\n",
       "[3 rows x 24 columns]"
      ]
     },
     "execution_count": 12,
     "metadata": {},
     "output_type": "execute_result"
    }
   ],
   "source": [
    "df.head(3)"
   ]
  },
  {
   "cell_type": "markdown",
   "id": "4a67b24a-17d5-440b-817e-c1893231deac",
   "metadata": {},
   "source": [
    "The dataset contains properties from multiple cities.\n",
    "\n",
    "We subset the data to focus on Karachi (60484 rows)."
   ]
  },
  {
   "cell_type": "markdown",
   "id": "7c502b25-0d18-4bac-a27c-5774c2efd76e",
   "metadata": {},
   "source": [
    "### 3. Data Exploration and Cleaning\n",
    "#####    Explore Data:\n",
    "    Use data.head(), data.describe(), and data.info() to understand data types, missing values, and statistical summaries.\n",
    "#####    Handle Missing Data:\n",
    "    Drop or fill with mean/median/mode or use advanced imputation.\n",
    "    Example: data.fillna(data.mean(), inplace=True)\n",
    "#####    Detect and Treat Outliers:\n",
    "    Techniques: Z-score, IQR-based filtering.\n",
    "#####    Feature Engineering:\n",
    "    Create or transform features (e.g., encoding dates, scaling numerical features).\n",
    "    Techniques: One-hot encoding, scaling with StandardScaler or MinMaxScaler.\n",
    "#####    Feature Selection:\n",
    "    Techniques: Correlation analysis, feature importance."
   ]
  },
  {
   "cell_type": "code",
   "execution_count": 13,
   "id": "19d13573-511e-4cfd-833e-29734091e4fa",
   "metadata": {},
   "outputs": [],
   "source": [
    "# Subset data for Karachi\n",
    "df = df[df[\"city\"] == \"Karachi\"]\n",
    "\n",
    "# Dropping unnecessary columns\n",
    "drop_columns = [\"location_id\", \"page_url\", \"province_name\", \"locality\", \n",
    "                \"area_marla\", \"year\", \"month\", \"day\", \"agency\", \"agent\", \n",
    "                \"latitude\", \"longitude\", \"property_id\", \"property_type\", \n",
    "                \"price_bin\", \"purpose\", \"date_added\", \"city\", \"area\"]\n",
    "df = df.drop(columns=drop_columns)\n"
   ]
  },
  {
   "cell_type": "markdown",
   "id": "add3aa9c-f08b-4052-8b32-0d011d8f70a3",
   "metadata": {},
   "source": [
    "Columns like latitude, agent, etc., were dropped as they were not required for analysis."
   ]
  },
  {
   "cell_type": "code",
   "execution_count": 14,
   "id": "49cd6d5c-0045-4e11-a48b-7d142b8c4bf7",
   "metadata": {},
   "outputs": [
    {
     "data": {
      "text/html": [
       "<div>\n",
       "<style scoped>\n",
       "    .dataframe tbody tr th:only-of-type {\n",
       "        vertical-align: middle;\n",
       "    }\n",
       "\n",
       "    .dataframe tbody tr th {\n",
       "        vertical-align: top;\n",
       "    }\n",
       "\n",
       "    .dataframe thead th {\n",
       "        text-align: right;\n",
       "    }\n",
       "</style>\n",
       "<table border=\"1\" class=\"dataframe\">\n",
       "  <thead>\n",
       "    <tr style=\"text-align: right;\">\n",
       "      <th></th>\n",
       "      <th>price</th>\n",
       "      <th>baths</th>\n",
       "      <th>area_sqft</th>\n",
       "      <th>bedrooms</th>\n",
       "    </tr>\n",
       "  </thead>\n",
       "  <tbody>\n",
       "    <tr>\n",
       "      <th>count</th>\n",
       "      <td>6.048400e+04</td>\n",
       "      <td>60484.000000</td>\n",
       "      <td>6.048400e+04</td>\n",
       "      <td>60484.000000</td>\n",
       "    </tr>\n",
       "    <tr>\n",
       "      <th>mean</th>\n",
       "      <td>1.983883e+07</td>\n",
       "      <td>2.632283</td>\n",
       "      <td>2.592650e+03</td>\n",
       "      <td>3.045103</td>\n",
       "    </tr>\n",
       "    <tr>\n",
       "      <th>std</th>\n",
       "      <td>3.830393e+07</td>\n",
       "      <td>1.931710</td>\n",
       "      <td>1.387768e+04</td>\n",
       "      <td>1.781785</td>\n",
       "    </tr>\n",
       "    <tr>\n",
       "      <th>min</th>\n",
       "      <td>0.000000e+00</td>\n",
       "      <td>0.000000</td>\n",
       "      <td>0.000000e+00</td>\n",
       "      <td>0.000000</td>\n",
       "    </tr>\n",
       "    <tr>\n",
       "      <th>25%</th>\n",
       "      <td>2.400000e+06</td>\n",
       "      <td>2.000000</td>\n",
       "      <td>1.197900e+03</td>\n",
       "      <td>2.000000</td>\n",
       "    </tr>\n",
       "    <tr>\n",
       "      <th>50%</th>\n",
       "      <td>8.500000e+06</td>\n",
       "      <td>3.000000</td>\n",
       "      <td>1.687960e+03</td>\n",
       "      <td>3.000000</td>\n",
       "    </tr>\n",
       "    <tr>\n",
       "      <th>75%</th>\n",
       "      <td>1.850000e+07</td>\n",
       "      <td>3.000000</td>\n",
       "      <td>2.722510e+03</td>\n",
       "      <td>4.000000</td>\n",
       "    </tr>\n",
       "    <tr>\n",
       "      <th>max</th>\n",
       "      <td>1.450000e+09</td>\n",
       "      <td>13.000000</td>\n",
       "      <td>3.267012e+06</td>\n",
       "      <td>68.000000</td>\n",
       "    </tr>\n",
       "  </tbody>\n",
       "</table>\n",
       "</div>"
      ],
      "text/plain": [
       "              price         baths     area_sqft      bedrooms\n",
       "count  6.048400e+04  60484.000000  6.048400e+04  60484.000000\n",
       "mean   1.983883e+07      2.632283  2.592650e+03      3.045103\n",
       "std    3.830393e+07      1.931710  1.387768e+04      1.781785\n",
       "min    0.000000e+00      0.000000  0.000000e+00      0.000000\n",
       "25%    2.400000e+06      2.000000  1.197900e+03      2.000000\n",
       "50%    8.500000e+06      3.000000  1.687960e+03      3.000000\n",
       "75%    1.850000e+07      3.000000  2.722510e+03      4.000000\n",
       "max    1.450000e+09     13.000000  3.267012e+06     68.000000"
      ]
     },
     "execution_count": 14,
     "metadata": {},
     "output_type": "execute_result"
    }
   ],
   "source": [
    "# Basic statistics\n",
    "df.describe()"
   ]
  },
  {
   "cell_type": "markdown",
   "id": "aac53a8b-40ab-48f0-94d3-864f87859a41",
   "metadata": {},
   "source": [
    "**Price:** The average property price is 19.8M PKR, with most properties priced between 2.4M and 18.5M PKR. Extreme values go up to 1.45B PKR, reflecting luxury properties, while 0 PKR indicates potential data issues.\n",
    "\n",
    "**Baths:** Properties have an average of 2.6 bathrooms, with the majority having 2-3 bathrooms. Outliers with 0 baths may indicate incomplete data, while properties with up to 13 baths represent luxury homes.\n",
    "\n",
    "**Area (Square Feet):** The average property size is 2,592 sq ft, with a wide range from 0 sq ft (likely missing data) to 3.26M sq ft, indicating significant diversity in property types.\n",
    "\n",
    "**Bedrooms:** Most properties have 2-4 bedrooms, with an average of 3 bedrooms. Outliers include properties with 68 bedrooms, likely representing unusual or misclassified entries."
   ]
  },
  {
   "cell_type": "code",
   "execution_count": 7,
   "id": "7c6a90fd-64b7-4067-a210-efc8e806bd92",
   "metadata": {},
   "outputs": [
    {
     "data": {
      "text/html": [
       "<div>\n",
       "<style scoped>\n",
       "    .dataframe tbody tr th:only-of-type {\n",
       "        vertical-align: middle;\n",
       "    }\n",
       "\n",
       "    .dataframe tbody tr th {\n",
       "        vertical-align: top;\n",
       "    }\n",
       "\n",
       "    .dataframe thead th {\n",
       "        text-align: right;\n",
       "    }\n",
       "</style>\n",
       "<table border=\"1\" class=\"dataframe\">\n",
       "  <thead>\n",
       "    <tr style=\"text-align: right;\">\n",
       "      <th></th>\n",
       "      <th>price</th>\n",
       "      <th>location</th>\n",
       "      <th>baths</th>\n",
       "      <th>area_sqft</th>\n",
       "      <th>bedrooms</th>\n",
       "    </tr>\n",
       "  </thead>\n",
       "  <tbody>\n",
       "    <tr>\n",
       "      <th>217</th>\n",
       "      <td>450000000</td>\n",
       "      <td>Cantt</td>\n",
       "      <td>7</td>\n",
       "      <td>21780.08</td>\n",
       "      <td>6</td>\n",
       "    </tr>\n",
       "    <tr>\n",
       "      <th>218</th>\n",
       "      <td>35000000</td>\n",
       "      <td>Gulistan-e-Jauhar</td>\n",
       "      <td>8</td>\n",
       "      <td>4356.02</td>\n",
       "      <td>6</td>\n",
       "    </tr>\n",
       "    <tr>\n",
       "      <th>219</th>\n",
       "      <td>21000000</td>\n",
       "      <td>DHA Defence</td>\n",
       "      <td>3</td>\n",
       "      <td>2423.03</td>\n",
       "      <td>3</td>\n",
       "    </tr>\n",
       "    <tr>\n",
       "      <th>220</th>\n",
       "      <td>6500000</td>\n",
       "      <td>Malir</td>\n",
       "      <td>1</td>\n",
       "      <td>871.20</td>\n",
       "      <td>2</td>\n",
       "    </tr>\n",
       "    <tr>\n",
       "      <th>221</th>\n",
       "      <td>13000000</td>\n",
       "      <td>Gadap Town</td>\n",
       "      <td>4</td>\n",
       "      <td>2613.61</td>\n",
       "      <td>4</td>\n",
       "    </tr>\n",
       "  </tbody>\n",
       "</table>\n",
       "</div>"
      ],
      "text/plain": [
       "         price           location  baths  area_sqft  bedrooms\n",
       "217  450000000              Cantt      7   21780.08         6\n",
       "218   35000000  Gulistan-e-Jauhar      8    4356.02         6\n",
       "219   21000000        DHA Defence      3    2423.03         3\n",
       "220    6500000              Malir      1     871.20         2\n",
       "221   13000000         Gadap Town      4    2613.61         4"
      ]
     },
     "execution_count": 7,
     "metadata": {},
     "output_type": "execute_result"
    }
   ],
   "source": [
    "df.head()"
   ]
  },
  {
   "cell_type": "code",
   "execution_count": 8,
   "id": "7d4096b3-a5b8-48d5-815b-faed0645d99e",
   "metadata": {},
   "outputs": [
    {
     "name": "stdout",
     "output_type": "stream",
     "text": [
      "<class 'pandas.core.frame.DataFrame'>\n",
      "Index: 60484 entries, 217 to 179280\n",
      "Data columns (total 5 columns):\n",
      " #   Column     Non-Null Count  Dtype  \n",
      "---  ------     --------------  -----  \n",
      " 0   price      60484 non-null  int64  \n",
      " 1   location   60484 non-null  object \n",
      " 2   baths      60484 non-null  int64  \n",
      " 3   area_sqft  60484 non-null  float64\n",
      " 4   bedrooms   60484 non-null  int64  \n",
      "dtypes: float64(1), int64(3), object(1)\n",
      "memory usage: 2.8+ MB\n"
     ]
    }
   ],
   "source": [
    "df.info()"
   ]
  },
  {
   "cell_type": "markdown",
   "id": "4a2ac9c7-573d-4038-9bc9-caa8aa57a111",
   "metadata": {},
   "source": [
    "##### Handling Null Values"
   ]
  },
  {
   "cell_type": "code",
   "execution_count": 10,
   "id": "a834e5c1-cc27-4b22-88da-0c4b45273746",
   "metadata": {},
   "outputs": [
    {
     "data": {
      "text/plain": [
       "price        0\n",
       "location     0\n",
       "baths        0\n",
       "area_sqft    0\n",
       "bedrooms     0\n",
       "dtype: int64"
      ]
     },
     "execution_count": 10,
     "metadata": {},
     "output_type": "execute_result"
    }
   ],
   "source": [
    "df.isnull().sum()"
   ]
  },
  {
   "cell_type": "markdown",
   "id": "1a73848d-2b13-4352-8880-5a652dc3cb79",
   "metadata": {},
   "source": [
    "there is no null values in dataset"
   ]
  },
  {
   "cell_type": "markdown",
   "id": "29f248b4-4341-4fb8-976a-7a93c2fa626a",
   "metadata": {},
   "source": [
    "##### Unique Values and Outlier Identification"
   ]
  },
  {
   "cell_type": "code",
   "execution_count": 16,
   "id": "7f473357-7b5c-4f9a-9d46-bfff47e3d768",
   "metadata": {},
   "outputs": [
    {
     "name": "stdout",
     "output_type": "stream",
     "text": [
      "[ 6  3  2  4  7  5 11  0  1  9  8 10 15 12 14 13 16 68 25]\n"
     ]
    }
   ],
   "source": [
    "# Check unique values for bedrooms\n",
    "print(df[\"bedrooms\"].unique())"
   ]
  },
  {
   "cell_type": "code",
   "execution_count": 17,
   "id": "e2f5ba05-ace3-4053-ac92-382518653960",
   "metadata": {},
   "outputs": [
    {
     "name": "stdout",
     "output_type": "stream",
     "text": [
      "          price              location  baths  area_sqft  bedrooms\n",
      "148853  2500000       North Nazimabad      0   35937.13        68\n",
      "152670   550000          Jamshed Town      0   16335.06        25\n",
      "160995   900000  Gulshan-e-Iqbal Town      0   16335.06        25\n"
     ]
    }
   ],
   "source": [
    "# Check properties with very high bedroom counts\n",
    "print(df[df.bedrooms > 20])"
   ]
  },
  {
   "cell_type": "code",
   "execution_count": 18,
   "id": "67498f57-77ca-4577-b98e-37821d87ca4a",
   "metadata": {},
   "outputs": [
    {
     "name": "stdout",
     "output_type": "stream",
     "text": [
      "[ 7  8  3  1  4  6  0  5  2  9 10 13 11 12]\n"
     ]
    }
   ],
   "source": [
    "# Check unique values for baths\n",
    "print(df[\"baths\"].unique())"
   ]
  },
  {
   "cell_type": "markdown",
   "id": "54e3f61b-01b3-4acb-98ab-aabe9ead3aef",
   "metadata": {},
   "source": [
    "**Unusual entries like 68 bedrooms and 0 baths should be further analyzed and removed.**"
   ]
  },
  {
   "cell_type": "markdown",
   "id": "2d8bcdcf-720f-45e2-875d-79b9c41a3e16",
   "metadata": {},
   "source": [
    "### 4. Data Preprocessing"
   ]
  },
  {
   "cell_type": "code",
   "execution_count": 19,
   "id": "d50b88fb-442b-4546-87bb-49569fe3fe0d",
   "metadata": {},
   "outputs": [
    {
     "data": {
      "text/html": [
       "<div>\n",
       "<style scoped>\n",
       "    .dataframe tbody tr th:only-of-type {\n",
       "        vertical-align: middle;\n",
       "    }\n",
       "\n",
       "    .dataframe tbody tr th {\n",
       "        vertical-align: top;\n",
       "    }\n",
       "\n",
       "    .dataframe thead th {\n",
       "        text-align: right;\n",
       "    }\n",
       "</style>\n",
       "<table border=\"1\" class=\"dataframe\">\n",
       "  <thead>\n",
       "    <tr style=\"text-align: right;\">\n",
       "      <th></th>\n",
       "      <th>price</th>\n",
       "      <th>location</th>\n",
       "      <th>baths</th>\n",
       "      <th>area_sqft</th>\n",
       "      <th>bedrooms</th>\n",
       "    </tr>\n",
       "  </thead>\n",
       "  <tbody>\n",
       "    <tr>\n",
       "      <th>229</th>\n",
       "      <td>29500000</td>\n",
       "      <td>Cantt</td>\n",
       "      <td>0</td>\n",
       "      <td>3103.66</td>\n",
       "      <td>3</td>\n",
       "    </tr>\n",
       "    <tr>\n",
       "      <th>230</th>\n",
       "      <td>30000000</td>\n",
       "      <td>Cantt</td>\n",
       "      <td>0</td>\n",
       "      <td>3103.66</td>\n",
       "      <td>3</td>\n",
       "    </tr>\n",
       "    <tr>\n",
       "      <th>231</th>\n",
       "      <td>37500000</td>\n",
       "      <td>Cantt</td>\n",
       "      <td>0</td>\n",
       "      <td>3566.49</td>\n",
       "      <td>4</td>\n",
       "    </tr>\n",
       "    <tr>\n",
       "      <th>232</th>\n",
       "      <td>45000000</td>\n",
       "      <td>Bath Island</td>\n",
       "      <td>0</td>\n",
       "      <td>2423.03</td>\n",
       "      <td>3</td>\n",
       "    </tr>\n",
       "    <tr>\n",
       "      <th>235</th>\n",
       "      <td>5000000</td>\n",
       "      <td>Gulshan-e-Iqbal Town</td>\n",
       "      <td>0</td>\n",
       "      <td>1470.16</td>\n",
       "      <td>2</td>\n",
       "    </tr>\n",
       "    <tr>\n",
       "      <th>...</th>\n",
       "      <td>...</td>\n",
       "      <td>...</td>\n",
       "      <td>...</td>\n",
       "      <td>...</td>\n",
       "      <td>...</td>\n",
       "    </tr>\n",
       "    <tr>\n",
       "      <th>179275</th>\n",
       "      <td>4800000</td>\n",
       "      <td>Gadap Town</td>\n",
       "      <td>0</td>\n",
       "      <td>1034.55</td>\n",
       "      <td>2</td>\n",
       "    </tr>\n",
       "    <tr>\n",
       "      <th>179276</th>\n",
       "      <td>26500000</td>\n",
       "      <td>Gadap Town</td>\n",
       "      <td>0</td>\n",
       "      <td>2613.61</td>\n",
       "      <td>6</td>\n",
       "    </tr>\n",
       "    <tr>\n",
       "      <th>179277</th>\n",
       "      <td>12500000</td>\n",
       "      <td>Gadap Town</td>\n",
       "      <td>0</td>\n",
       "      <td>2178.01</td>\n",
       "      <td>3</td>\n",
       "    </tr>\n",
       "    <tr>\n",
       "      <th>179278</th>\n",
       "      <td>27000000</td>\n",
       "      <td>Gadap Town</td>\n",
       "      <td>0</td>\n",
       "      <td>2613.61</td>\n",
       "      <td>6</td>\n",
       "    </tr>\n",
       "    <tr>\n",
       "      <th>179279</th>\n",
       "      <td>11000000</td>\n",
       "      <td>Gadap Town</td>\n",
       "      <td>0</td>\n",
       "      <td>2123.56</td>\n",
       "      <td>3</td>\n",
       "    </tr>\n",
       "  </tbody>\n",
       "</table>\n",
       "<p>12727 rows × 5 columns</p>\n",
       "</div>"
      ],
      "text/plain": [
       "           price              location  baths  area_sqft  bedrooms\n",
       "229     29500000                 Cantt      0    3103.66         3\n",
       "230     30000000                 Cantt      0    3103.66         3\n",
       "231     37500000                 Cantt      0    3566.49         4\n",
       "232     45000000           Bath Island      0    2423.03         3\n",
       "235      5000000  Gulshan-e-Iqbal Town      0    1470.16         2\n",
       "...          ...                   ...    ...        ...       ...\n",
       "179275   4800000            Gadap Town      0    1034.55         2\n",
       "179276  26500000            Gadap Town      0    2613.61         6\n",
       "179277  12500000            Gadap Town      0    2178.01         3\n",
       "179278  27000000            Gadap Town      0    2613.61         6\n",
       "179279  11000000            Gadap Town      0    2123.56         3\n",
       "\n",
       "[12727 rows x 5 columns]"
      ]
     },
     "execution_count": 19,
     "metadata": {},
     "output_type": "execute_result"
    }
   ],
   "source": [
    "df[df.baths==0]"
   ]
  },
  {
   "cell_type": "code",
   "execution_count": 16,
   "id": "7c89325c-492d-4ed6-932a-4a0eec05d746",
   "metadata": {},
   "outputs": [
    {
     "data": {
      "text/html": [
       "<div>\n",
       "<style scoped>\n",
       "    .dataframe tbody tr th:only-of-type {\n",
       "        vertical-align: middle;\n",
       "    }\n",
       "\n",
       "    .dataframe tbody tr th {\n",
       "        vertical-align: top;\n",
       "    }\n",
       "\n",
       "    .dataframe thead th {\n",
       "        text-align: right;\n",
       "    }\n",
       "</style>\n",
       "<table border=\"1\" class=\"dataframe\">\n",
       "  <thead>\n",
       "    <tr style=\"text-align: right;\">\n",
       "      <th></th>\n",
       "      <th>price</th>\n",
       "      <th>location</th>\n",
       "      <th>baths</th>\n",
       "      <th>area_sqft</th>\n",
       "      <th>bedrooms</th>\n",
       "      <th>price_per_sqft</th>\n",
       "    </tr>\n",
       "  </thead>\n",
       "  <tbody>\n",
       "    <tr>\n",
       "      <th>217</th>\n",
       "      <td>450000000</td>\n",
       "      <td>Cantt</td>\n",
       "      <td>7</td>\n",
       "      <td>21780.08</td>\n",
       "      <td>6</td>\n",
       "      <td>20661.081135</td>\n",
       "    </tr>\n",
       "    <tr>\n",
       "      <th>218</th>\n",
       "      <td>35000000</td>\n",
       "      <td>Gulistan-e-Jauhar</td>\n",
       "      <td>8</td>\n",
       "      <td>4356.02</td>\n",
       "      <td>6</td>\n",
       "      <td>8034.857508</td>\n",
       "    </tr>\n",
       "    <tr>\n",
       "      <th>219</th>\n",
       "      <td>21000000</td>\n",
       "      <td>DHA Defence</td>\n",
       "      <td>3</td>\n",
       "      <td>2423.03</td>\n",
       "      <td>3</td>\n",
       "      <td>8666.834501</td>\n",
       "    </tr>\n",
       "    <tr>\n",
       "      <th>220</th>\n",
       "      <td>6500000</td>\n",
       "      <td>Malir</td>\n",
       "      <td>1</td>\n",
       "      <td>871.20</td>\n",
       "      <td>2</td>\n",
       "      <td>7460.973370</td>\n",
       "    </tr>\n",
       "    <tr>\n",
       "      <th>221</th>\n",
       "      <td>13000000</td>\n",
       "      <td>Gadap Town</td>\n",
       "      <td>4</td>\n",
       "      <td>2613.61</td>\n",
       "      <td>4</td>\n",
       "      <td>4973.963216</td>\n",
       "    </tr>\n",
       "  </tbody>\n",
       "</table>\n",
       "</div>"
      ],
      "text/plain": [
       "         price           location  baths  area_sqft  bedrooms  price_per_sqft\n",
       "217  450000000              Cantt      7   21780.08         6    20661.081135\n",
       "218   35000000  Gulistan-e-Jauhar      8    4356.02         6     8034.857508\n",
       "219   21000000        DHA Defence      3    2423.03         3     8666.834501\n",
       "220    6500000              Malir      1     871.20         2     7460.973370\n",
       "221   13000000         Gadap Town      4    2613.61         4     4973.963216"
      ]
     },
     "execution_count": 16,
     "metadata": {},
     "output_type": "execute_result"
    }
   ],
   "source": [
    "df1=df.copy()\n",
    "df1[\"price_per_sqft\"]=df1[\"price\"]/df1[\"area_sqft\"]\n",
    "df1.head()"
   ]
  },
  {
   "cell_type": "code",
   "execution_count": null,
   "id": "a4026afe-0c0a-4eed-93b0-46c29926b29f",
   "metadata": {},
   "outputs": [],
   "source": [
    "# Remove rows with unrealistic bedroom-to-area ratio\n",
    "df = df[~(df.area_sqft / df.bedrooms < 300)]\n",
    "\n",
    "# Add price per square foot column\n",
    "df[\"price_per_sqft\"] = df[\"price\"] / df[\"area_sqft\"]\n",
    "\n",
    "# Handle locations with less representation\n",
    "df[\"location\"] = df[\"location\"].str.strip()\n",
    "location_stats = df.groupby(\"location\")[\"location\"].count().sort_values(ascending=False)\n",
    "less_than_10 = location_stats[location_stats <= 10]\n",
    "df[\"location\"] = df[\"location\"].apply(lambda x: \"others\" if x in less_than_10 else x)\n"
   ]
  },
  {
   "cell_type": "code",
   "execution_count": null,
   "id": "23e02c7e-67ed-4ff2-a072-eb205bfc4b82",
   "metadata": {},
   "outputs": [],
   "source": []
  },
  {
   "cell_type": "code",
   "execution_count": 17,
   "id": "68b614ad-6fb0-448e-90d1-7f6f19c140f4",
   "metadata": {},
   "outputs": [
    {
     "data": {
      "text/plain": [
       "array(['Cantt', 'Gulistan-e-Jauhar', 'DHA Defence', 'Malir', 'Gadap Town',\n",
       "       'Gulshan-e-Iqbal Town', 'Scheme 33', 'Bath Island',\n",
       "       'Abul Hassan Isphani Road', 'Nazimabad', 'Falcon Complex Faisal',\n",
       "       'Shahra-e-Faisal', 'Gizri', 'Saddar Town',\n",
       "       'Navy Housing Scheme Karsaz', 'Jamshed Town',\n",
       "       'Bahria Town Karachi', 'Jinnah Avenue', 'PAF Housing Scheme',\n",
       "       'North Nazimabad', 'Clifton', 'Northern Bypass',\n",
       "       'Fazaia Housing Scheme', 'New Karachi', 'Khalid Bin Walid Road',\n",
       "       'Shaheed Millat Road', 'North Karachi', 'Anda Mor Road',\n",
       "       'Lyari Town', 'Defence View Society', 'Federal B Area',\n",
       "       'P & T Colony', 'Sea View Apartments', 'Baldia Town', 'Tariq Road',\n",
       "       'Zamzama', 'Gulshan-e-Usman Housing Society', 'Liaquatabad',\n",
       "       'Garden West', 'Gulberg Town', 'Chapal Uptown', 'Baloch Colony',\n",
       "       'Manzoor Colony', 'Aisha Manzil', 'Delhi Colony', 'Airport',\n",
       "       'Jamshed Road', 'Shah Faisal Town', 'Civil Lines',\n",
       "       'University Road', 'Korangi', 'Hill Park',\n",
       "       'Malir Link To Super Highway', 'Abid Town', 'Falaknaz Presidency',\n",
       "       'Bin Qasim Town', 'Ranchore Line Bazar', 'M. A. Jinnah Road',\n",
       "       'Super Highway', 'Azam Town', 'Saima Luxury Homes', 'Rabia City',\n",
       "       'Mehmoodabad', 'Hub River Road', 'Rufi Rose Petals',\n",
       "       'Shahra-e-Qaideen', 'Suparco Road', 'Punjab Chowrangi',\n",
       "       'Khaliq-uz-Zaman Road', 'Lyari Expressway', 'Orangi Town',\n",
       "       'Gulshan-e-Areesha', 'Javed Bahria Coopretive Housing Society',\n",
       "       'Landhi', 'Kashmir Road', 'ASF Tower', 'Dastgir Colony',\n",
       "       'Dalmia Cement Factory Road', 'Defence Garden',\n",
       "       'Rashid Minhas Road', 'Sindh Industrial Trading Estate (SITE)',\n",
       "       'Khayaban-e-Ittehad Road', 'Britto Road', 'Naya Nazimabad',\n",
       "       'KDA Scheme 1', 'Saadi Road', 'Karachi Motorway',\n",
       "       'Tipu Sultan Road', 'Gulshan-e-Amin', 'Manghopir Road', 'Golimar',\n",
       "       'Shah Rasool Colony', 'Nishtar Road (Lawrence Road)',\n",
       "       'Al-Hilal Society', 'National Highway', 'Maqboolabad Society',\n",
       "       'Falaknaz Dynasty', 'Etawa Society', 'Frere Town',\n",
       "       'Cosmopolitan Society', 'Liaquat Avenue', 'Dr Daud Pota Road',\n",
       "       'DHA City Karachi', 'Surti Muslim Co-Operative Housing Society',\n",
       "       'ASF Housing Scheme', 'Muslimabad Society', 'Bilal Town',\n",
       "       'Cotton Export Cooperative Housing Society',\n",
       "       'Naval Housing Scheme', 'Maskan Chowrangi', 'MT Khan Road',\n",
       "       'Khuda Ki Basti', 'Shaheed-e-Millat Expressway',\n",
       "       'Hawks Bay Scheme 42', 'Kamran Chowrangi', 'Gizri Road',\n",
       "       'Peoples Colony', 'Kashmir Colony', 'Abdullah Haroon Road',\n",
       "       'Shadman 2', 'Korangi Road', 'Scheme 45', 'Amir Khusro',\n",
       "       'Sakhi Hassan Chowrangi', 'Naval Colony', 'Kemari Town', 'BMCHS',\n",
       "       'Lines Area', 'Cutchi Memon Cooperative Housing Society',\n",
       "       'Abdullah Ahmed Road', 'Punjab Colony', 'Lalukhet', 'Shah Town',\n",
       "       'Pakistan Chowk', 'Rufi Lake Drive Apartments', 'Gobal Town',\n",
       "       'Guru Mandir Chorangi', 'Teacher Society', 'Amil Colony',\n",
       "       'Old Queens Road', 'Khudadad Colony', 'Stadium Road',\n",
       "       'PTV Society', 'Times Residency', 'Qayyumabad', 'Teachers Society',\n",
       "       'Gulshan-e-Umair', 'Mauripur Road', 'Malir Housing Scheme 1',\n",
       "       'Old Clifton', 'I. I. Chundrigar Road', 'Chapal Courtyard',\n",
       "       'circular road', 'Al-Safaa Garden', 'Intelligence Colony',\n",
       "       'Shahrah-e-Pakistan',\n",
       "       'State Bank of Pakistan Staff Co-Operative Housing Society',\n",
       "       'Shahra-e-Usman', 'Numaish Chowrangi', 'Gujjar Chowk',\n",
       "       'Al-Manzar Society', 'Ahsan Grand City', 'Royal Defence Tower',\n",
       "       'Siraj-ud-Daula Road', 'Chapal Skymark', 'Gulshan-e-Jami',\n",
       "       'Gadap Road', 'Gulshan-E-Faisal',\n",
       "       'APP Employees Co-operative Housing Society', 'Gulshan-e-Malir',\n",
       "       'Laraib Garden', 'Sher Shah Suri Road', 'PIDC', 'Diamond City',\n",
       "       'Catholic Colony', 'Nooriabad',\n",
       "       'Old Ravians Co-Operative Housing Society', 'Police Society',\n",
       "       'Altaf Hussain Road', 'Al-Jadeed Residency', 'Gulshan-e-Millat',\n",
       "       'Bagh-e-Korangi', 'Beaumont Road', 'Tahir Villa', 'Hassan Goth',\n",
       "       'Karachi, Sindh', 'Hoshang Road', 'Goth Ibrahim Haidri',\n",
       "       'Darul Aman Society', 'Dhabeji', 'Allama Iqbal Town',\n",
       "       'Blue Bell Residency', 'Gulistan-e-Malir', 'Shahra-e-Jahangir',\n",
       "       'Erum Villas', 'Humaira Town', 'Gulshan-e-Ghazian',\n",
       "       'Jamaluddin Afghani Road', 'Damba', 'Karachi Golf City', 'Others',\n",
       "       'Mangopir', 'Shahra-e-Liaquat'], dtype=object)"
      ]
     },
     "execution_count": 17,
     "metadata": {},
     "output_type": "execute_result"
    }
   ],
   "source": [
    "df[\"location\"].unique()"
   ]
  },
  {
   "cell_type": "code",
   "execution_count": 18,
   "id": "a37b3bad-b9a6-47b2-b253-3deba728caa4",
   "metadata": {},
   "outputs": [
    {
     "data": {
      "text/plain": [
       "203"
      ]
     },
     "execution_count": 18,
     "metadata": {},
     "output_type": "execute_result"
    }
   ],
   "source": [
    "len(df1[\"location\"].unique())"
   ]
  },
  {
   "cell_type": "code",
   "execution_count": 19,
   "id": "7f7390af-6b3d-40c3-be66-27a62070b0a9",
   "metadata": {},
   "outputs": [
    {
     "data": {
      "text/plain": [
       "location\n",
       "DHA Defence             10927\n",
       "Bahria Town Karachi      8548\n",
       "Gulistan-e-Jauhar        5877\n",
       "Gulshan-e-Iqbal Town     4513\n",
       "North Nazimabad          3094\n",
       "                        ...  \n",
       "Shahra-e-Jahangir           1\n",
       "Gulshan-E-Faisal            1\n",
       "Gulshan-e-Ghazian           1\n",
       "Gulshan-e-Jami              1\n",
       "Karachi, Sindh              1\n",
       "Name: location, Length: 203, dtype: int64"
      ]
     },
     "execution_count": 19,
     "metadata": {},
     "output_type": "execute_result"
    }
   ],
   "source": [
    "df1.location=df1.location.apply(lambda x: x.strip())\n",
    "location_stats=df1.groupby(\"location\")[\"location\"].agg(\"count\").sort_values(ascending=False)\n",
    "location_stats"
   ]
  },
  {
   "cell_type": "code",
   "execution_count": 20,
   "id": "b4268b5c-6f78-46df-9305-5100bd4289c8",
   "metadata": {},
   "outputs": [
    {
     "data": {
      "text/plain": [
       "93"
      ]
     },
     "execution_count": 20,
     "metadata": {},
     "output_type": "execute_result"
    }
   ],
   "source": [
    "len(location_stats[location_stats<=10])"
   ]
  },
  {
   "cell_type": "code",
   "execution_count": 21,
   "id": "b36cc2c1-fbf1-4aa2-8a3e-319fd1142984",
   "metadata": {},
   "outputs": [
    {
     "data": {
      "text/plain": [
       "location\n",
       "Shaheed-e-Millat Expressway                 10\n",
       "Gulshan-e-Usman Housing Society             10\n",
       "Cutchi Memon Cooperative Housing Society    10\n",
       "Gulshan-e-Areesha                           10\n",
       "Amil Colony                                 10\n",
       "                                            ..\n",
       "Shahra-e-Jahangir                            1\n",
       "Gulshan-E-Faisal                             1\n",
       "Gulshan-e-Ghazian                            1\n",
       "Gulshan-e-Jami                               1\n",
       "Karachi, Sindh                               1\n",
       "Name: location, Length: 93, dtype: int64"
      ]
     },
     "execution_count": 21,
     "metadata": {},
     "output_type": "execute_result"
    }
   ],
   "source": [
    "location_stats_less_than_10=location_stats[location_stats<=10]\n",
    "location_stats_less_than_10"
   ]
  },
  {
   "cell_type": "code",
   "execution_count": 22,
   "id": "df0a1a29-83e5-4337-84c4-9d65d24332fd",
   "metadata": {},
   "outputs": [],
   "source": [
    "df1.location=df1.location.apply(lambda x: \"others\" if x in location_stats_less_than_10 else x)"
   ]
  },
  {
   "cell_type": "code",
   "execution_count": 23,
   "id": "df6733bc-34ca-48f9-a7fd-f465651cc0b0",
   "metadata": {},
   "outputs": [
    {
     "data": {
      "text/plain": [
       "111"
      ]
     },
     "execution_count": 23,
     "metadata": {},
     "output_type": "execute_result"
    }
   ],
   "source": [
    "len(df1.location.unique())"
   ]
  },
  {
   "cell_type": "markdown",
   "id": "6ae35ae1-e345-4a16-b1a3-b73f6c340765",
   "metadata": {},
   "source": [
    "##### Outliers"
   ]
  },
  {
   "cell_type": "code",
   "execution_count": 24,
   "id": "c30be2d6-7af9-49e6-8bbe-1a52316d1453",
   "metadata": {},
   "outputs": [
    {
     "data": {
      "text/html": [
       "<div>\n",
       "<style scoped>\n",
       "    .dataframe tbody tr th:only-of-type {\n",
       "        vertical-align: middle;\n",
       "    }\n",
       "\n",
       "    .dataframe tbody tr th {\n",
       "        vertical-align: top;\n",
       "    }\n",
       "\n",
       "    .dataframe thead th {\n",
       "        text-align: right;\n",
       "    }\n",
       "</style>\n",
       "<table border=\"1\" class=\"dataframe\">\n",
       "  <thead>\n",
       "    <tr style=\"text-align: right;\">\n",
       "      <th></th>\n",
       "      <th>price</th>\n",
       "      <th>location</th>\n",
       "      <th>baths</th>\n",
       "      <th>area_sqft</th>\n",
       "      <th>bedrooms</th>\n",
       "      <th>price_per_sqft</th>\n",
       "    </tr>\n",
       "  </thead>\n",
       "  <tbody>\n",
       "    <tr>\n",
       "      <th>217</th>\n",
       "      <td>450000000</td>\n",
       "      <td>Cantt</td>\n",
       "      <td>7</td>\n",
       "      <td>21780.08</td>\n",
       "      <td>6</td>\n",
       "      <td>20661.081135</td>\n",
       "    </tr>\n",
       "    <tr>\n",
       "      <th>218</th>\n",
       "      <td>35000000</td>\n",
       "      <td>Gulistan-e-Jauhar</td>\n",
       "      <td>8</td>\n",
       "      <td>4356.02</td>\n",
       "      <td>6</td>\n",
       "      <td>8034.857508</td>\n",
       "    </tr>\n",
       "    <tr>\n",
       "      <th>219</th>\n",
       "      <td>21000000</td>\n",
       "      <td>DHA Defence</td>\n",
       "      <td>3</td>\n",
       "      <td>2423.03</td>\n",
       "      <td>3</td>\n",
       "      <td>8666.834501</td>\n",
       "    </tr>\n",
       "    <tr>\n",
       "      <th>220</th>\n",
       "      <td>6500000</td>\n",
       "      <td>Malir</td>\n",
       "      <td>1</td>\n",
       "      <td>871.20</td>\n",
       "      <td>2</td>\n",
       "      <td>7460.973370</td>\n",
       "    </tr>\n",
       "    <tr>\n",
       "      <th>221</th>\n",
       "      <td>13000000</td>\n",
       "      <td>Gadap Town</td>\n",
       "      <td>4</td>\n",
       "      <td>2613.61</td>\n",
       "      <td>4</td>\n",
       "      <td>4973.963216</td>\n",
       "    </tr>\n",
       "  </tbody>\n",
       "</table>\n",
       "</div>"
      ],
      "text/plain": [
       "         price           location  baths  area_sqft  bedrooms  price_per_sqft\n",
       "217  450000000              Cantt      7   21780.08         6    20661.081135\n",
       "218   35000000  Gulistan-e-Jauhar      8    4356.02         6     8034.857508\n",
       "219   21000000        DHA Defence      3    2423.03         3     8666.834501\n",
       "220    6500000              Malir      1     871.20         2     7460.973370\n",
       "221   13000000         Gadap Town      4    2613.61         4     4973.963216"
      ]
     },
     "execution_count": 24,
     "metadata": {},
     "output_type": "execute_result"
    }
   ],
   "source": [
    "df1.head()"
   ]
  },
  {
   "cell_type": "code",
   "execution_count": 25,
   "id": "275f653f-1372-43d4-afdb-8818793d40a3",
   "metadata": {},
   "outputs": [
    {
     "data": {
      "text/html": [
       "<div>\n",
       "<style scoped>\n",
       "    .dataframe tbody tr th:only-of-type {\n",
       "        vertical-align: middle;\n",
       "    }\n",
       "\n",
       "    .dataframe tbody tr th {\n",
       "        vertical-align: top;\n",
       "    }\n",
       "\n",
       "    .dataframe thead th {\n",
       "        text-align: right;\n",
       "    }\n",
       "</style>\n",
       "<table border=\"1\" class=\"dataframe\">\n",
       "  <thead>\n",
       "    <tr style=\"text-align: right;\">\n",
       "      <th></th>\n",
       "      <th>price</th>\n",
       "      <th>location</th>\n",
       "      <th>baths</th>\n",
       "      <th>area_sqft</th>\n",
       "      <th>bedrooms</th>\n",
       "      <th>price_per_sqft</th>\n",
       "    </tr>\n",
       "  </thead>\n",
       "  <tbody>\n",
       "    <tr>\n",
       "      <th>222</th>\n",
       "      <td>32000000</td>\n",
       "      <td>DHA Defence</td>\n",
       "      <td>4</td>\n",
       "      <td>1089.00</td>\n",
       "      <td>4</td>\n",
       "      <td>29384.756657</td>\n",
       "    </tr>\n",
       "    <tr>\n",
       "      <th>223</th>\n",
       "      <td>4000000</td>\n",
       "      <td>Malir</td>\n",
       "      <td>3</td>\n",
       "      <td>871.20</td>\n",
       "      <td>7</td>\n",
       "      <td>4591.368228</td>\n",
       "    </tr>\n",
       "    <tr>\n",
       "      <th>258</th>\n",
       "      <td>4500000</td>\n",
       "      <td>Saddar Town</td>\n",
       "      <td>1</td>\n",
       "      <td>353.93</td>\n",
       "      <td>2</td>\n",
       "      <td>12714.378549</td>\n",
       "    </tr>\n",
       "    <tr>\n",
       "      <th>270</th>\n",
       "      <td>100000000</td>\n",
       "      <td>Gulshan-e-Iqbal Town</td>\n",
       "      <td>9</td>\n",
       "      <td>2613.61</td>\n",
       "      <td>9</td>\n",
       "      <td>38261.255505</td>\n",
       "    </tr>\n",
       "    <tr>\n",
       "      <th>308</th>\n",
       "      <td>3500000</td>\n",
       "      <td>Abul Hassan Isphani Road</td>\n",
       "      <td>3</td>\n",
       "      <td>1388.48</td>\n",
       "      <td>5</td>\n",
       "      <td>2520.742106</td>\n",
       "    </tr>\n",
       "  </tbody>\n",
       "</table>\n",
       "</div>"
      ],
      "text/plain": [
       "         price                  location  baths  area_sqft  bedrooms  \\\n",
       "222   32000000               DHA Defence      4    1089.00         4   \n",
       "223    4000000                     Malir      3     871.20         7   \n",
       "258    4500000               Saddar Town      1     353.93         2   \n",
       "270  100000000      Gulshan-e-Iqbal Town      9    2613.61         9   \n",
       "308    3500000  Abul Hassan Isphani Road      3    1388.48         5   \n",
       "\n",
       "     price_per_sqft  \n",
       "222    29384.756657  \n",
       "223     4591.368228  \n",
       "258    12714.378549  \n",
       "270    38261.255505  \n",
       "308     2520.742106  "
      ]
     },
     "execution_count": 25,
     "metadata": {},
     "output_type": "execute_result"
    }
   ],
   "source": [
    "df1[df1.area_sqft/df1.bedrooms<300].head()"
   ]
  },
  {
   "cell_type": "code",
   "execution_count": 26,
   "id": "a9f84edc-036d-4935-8abb-3b2e86dee7f0",
   "metadata": {},
   "outputs": [
    {
     "data": {
      "text/plain": [
       "(60484, 6)"
      ]
     },
     "execution_count": 26,
     "metadata": {},
     "output_type": "execute_result"
    }
   ],
   "source": [
    "df1.shape"
   ]
  },
  {
   "cell_type": "code",
   "execution_count": 27,
   "id": "02f0aa25-c9f5-401d-8941-5046771b8cc7",
   "metadata": {},
   "outputs": [],
   "source": [
    "df2=df1[~(df1.area_sqft/df1.bedrooms<300)]\n"
   ]
  },
  {
   "cell_type": "code",
   "execution_count": 28,
   "id": "2b04cb11-3803-4f9c-9f65-6fe09b645fab",
   "metadata": {},
   "outputs": [
    {
     "data": {
      "text/html": [
       "<div>\n",
       "<style scoped>\n",
       "    .dataframe tbody tr th:only-of-type {\n",
       "        vertical-align: middle;\n",
       "    }\n",
       "\n",
       "    .dataframe tbody tr th {\n",
       "        vertical-align: top;\n",
       "    }\n",
       "\n",
       "    .dataframe thead th {\n",
       "        text-align: right;\n",
       "    }\n",
       "</style>\n",
       "<table border=\"1\" class=\"dataframe\">\n",
       "  <thead>\n",
       "    <tr style=\"text-align: right;\">\n",
       "      <th></th>\n",
       "      <th>price</th>\n",
       "      <th>location</th>\n",
       "      <th>baths</th>\n",
       "      <th>area_sqft</th>\n",
       "      <th>bedrooms</th>\n",
       "      <th>price_per_sqft</th>\n",
       "    </tr>\n",
       "  </thead>\n",
       "  <tbody>\n",
       "  </tbody>\n",
       "</table>\n",
       "</div>"
      ],
      "text/plain": [
       "Empty DataFrame\n",
       "Columns: [price, location, baths, area_sqft, bedrooms, price_per_sqft]\n",
       "Index: []"
      ]
     },
     "execution_count": 28,
     "metadata": {},
     "output_type": "execute_result"
    }
   ],
   "source": [
    "df2[df2.area_sqft/df2.bedrooms<300].head()"
   ]
  },
  {
   "cell_type": "code",
   "execution_count": 29,
   "id": "bdadf9b4-8c89-409f-8f27-ee2400848232",
   "metadata": {},
   "outputs": [
    {
     "data": {
      "text/plain": [
       "(56464, 6)"
      ]
     },
     "execution_count": 29,
     "metadata": {},
     "output_type": "execute_result"
    }
   ],
   "source": [
    "df2.shape"
   ]
  },
  {
   "cell_type": "code",
   "execution_count": 30,
   "id": "dd03c576-5f89-4356-883f-3432b3b2c6ec",
   "metadata": {},
   "outputs": [
    {
     "data": {
      "text/plain": [
       "count     56464.000000\n",
       "mean       6881.451632\n",
       "std        6609.195379\n",
       "min           0.000000\n",
       "25%        2250.869178\n",
       "50%        5739.210285\n",
       "75%        9565.350474\n",
       "max      316802.953154\n",
       "Name: price_per_sqft, dtype: float64"
      ]
     },
     "execution_count": 30,
     "metadata": {},
     "output_type": "execute_result"
    }
   ],
   "source": [
    "df2.price_per_sqft.describe()"
   ]
  },
  {
   "cell_type": "code",
   "execution_count": 31,
   "id": "172eb882-5088-45a5-bba3-f5917dc4a369",
   "metadata": {},
   "outputs": [
    {
     "name": "stdout",
     "output_type": "stream",
     "text": [
      "(38462, 6)\n"
     ]
    }
   ],
   "source": [
    "import pandas as pd\n",
    "import numpy as np\n",
    "\n",
    "def remove_pps_outliers(df, std_devs=1):\n",
    "    \"\"\"\n",
    "    Removes outliers from the 'price_per_sqft' column based on the specified\n",
    "    number of standard deviations from the mean for each location group.\n",
    "\n",
    "    Parameters:\n",
    "    - df (pd.DataFrame): The input DataFrame containing 'price_per_sqft' and 'location' columns.\n",
    "    - std_devs (float): The number of standard deviations to use for filtering (default is 1).\n",
    "\n",
    "    Returns:\n",
    "    - pd.DataFrame: A new DataFrame with outliers removed.\n",
    "    \"\"\"\n",
    "    # Initialize an empty DataFrame to store the filtered results\n",
    "    df_out = pd.DataFrame()\n",
    "    \n",
    "    # Loop over each subset of the DataFrame grouped by \"location\"\n",
    "    for key, subdf in df.groupby(\"location\"):\n",
    "        # Calculate the mean and standard deviation of 'price_per_sqft' for the current location group\n",
    "        m = np.mean(subdf.price_per_sqft)\n",
    "        st = np.std(subdf.price_per_sqft)\n",
    "        \n",
    "        # Filter rows where 'price_per_sqft' is within the specified number of standard deviations from the mean\n",
    "        lower_bound = m - std_devs * st\n",
    "        upper_bound = m + std_devs * st\n",
    "        reduced_df = subdf[(subdf.price_per_sqft > lower_bound) & (subdf.price_per_sqft <= upper_bound)]\n",
    "        \n",
    "        # Concatenate the filtered data to the output DataFrame\n",
    "        df_out = pd.concat([df_out, reduced_df], ignore_index=True)\n",
    "    \n",
    "    # Return the final DataFrame with outliers removed\n",
    "    return df_out\n",
    "\n",
    "# Example usage:\n",
    "# Assuming 'df2' is your input DataFrame, you call the function like this:\n",
    "# Adjust 'std_devs' as needed to filter more or fewer outliers (e.g., std_devs=2 for a wider range).\n",
    "df3 = remove_pps_outliers(df2, std_devs=1)\n",
    "\n",
    "# Print the shape of the filtered DataFrame to check the result\n",
    "print(df3.shape)"
   ]
  },
  {
   "cell_type": "code",
   "execution_count": 32,
   "id": "f6c98eaa-c687-42cd-b7b2-92fbe69ff0b0",
   "metadata": {},
   "outputs": [
    {
     "data": {
      "text/plain": [
       "count    38462.000000\n",
       "mean      6174.866575\n",
       "std       4265.487830\n",
       "min          0.000184\n",
       "25%       3935.458481\n",
       "50%       5687.338563\n",
       "75%       8034.848285\n",
       "max      38042.665505\n",
       "Name: price_per_sqft, dtype: float64"
      ]
     },
     "execution_count": 32,
     "metadata": {},
     "output_type": "execute_result"
    }
   ],
   "source": [
    "df3.price_per_sqft.describe()"
   ]
  },
  {
   "cell_type": "code",
   "execution_count": 33,
   "id": "de1780f7-8d04-4b1c-91e6-fbe84f6b40ab",
   "metadata": {},
   "outputs": [
    {
     "name": "stdout",
     "output_type": "stream",
     "text": [
      "Filtered price_per_sqft data:\n",
      "count    32923.000000\n",
      "mean      7207.081178\n",
      "std       3722.470262\n",
      "min        440.769731\n",
      "25%       4706.125424\n",
      "50%       6121.824304\n",
      "75%       8570.527791\n",
      "max      38042.665505\n",
      "Name: price_per_sqft, dtype: float64\n"
     ]
    },
    {
     "data": {
      "image/png": "[encoded data removed]",
      "text/plain": [
       "<Figure size 1200x600 with 2 Axes>"
      ]
     },
     "metadata": {},
     "output_type": "display_data"
    }
   ],
   "source": [
    "import matplotlib.pyplot as plt\n",
    "\n",
    "# Step 1: Filter out rows with very low values in price_per_sqft\n",
    "# Assuming values below a threshold (e.g., 100) are unrealistic and could be removed\n",
    "df4 = df3[df3.price_per_sqft >=300]\n",
    "\n",
    "# Step 2: Describe the filtered data\n",
    "print(\"Filtered price_per_sqft data:\")\n",
    "print(df4.price_per_sqft.describe())\n",
    "\n",
    "# Step 3: Visualize the price_per_sqft distribution\n",
    "plt.figure(figsize=(12, 6))\n",
    "\n",
    "# Histogram\n",
    "plt.subplot(1, 2, 1)\n",
    "plt.hist(df4.price_per_sqft, bins=30, color='skyblue', edgecolor='black')\n",
    "plt.title('Histogram of Price per Sqft')\n",
    "plt.xlabel('Price per Sqft')\n",
    "plt.ylabel('Frequency')\n",
    "\n",
    "# Box Plot\n",
    "plt.subplot(1, 2, 2)\n",
    "plt.boxplot(df4.price_per_sqft, vert=False)\n",
    "plt.title('Box Plot of Price per Sqft')\n",
    "plt.xlabel('Price per Sqft')\n",
    "\n",
    "plt.tight_layout()\n",
    "plt.show()"
   ]
  },
  {
   "cell_type": "code",
   "execution_count": 34,
   "id": "51dfeeac-0793-40d6-93c7-8eed79639a61",
   "metadata": {},
   "outputs": [
    {
     "name": "stdout",
     "output_type": "stream",
     "text": [
      "(32923, 6)\n"
     ]
    },
    {
     "data": {
      "text/plain": [
       "count    32923.000000\n",
       "mean      7207.081178\n",
       "std       3722.470262\n",
       "min        440.769731\n",
       "25%       4706.125424\n",
       "50%       6121.824304\n",
       "75%       8570.527791\n",
       "max      38042.665505\n",
       "Name: price_per_sqft, dtype: float64"
      ]
     },
     "execution_count": 34,
     "metadata": {},
     "output_type": "execute_result"
    }
   ],
   "source": [
    "print(df4.shape)\n",
    "df4.price_per_sqft.describe()"
   ]
  },
  {
   "cell_type": "code",
   "execution_count": 35,
   "id": "674f7933-3c33-4d31-9d6e-d5c6144d0998",
   "metadata": {},
   "outputs": [
    {
     "data": {
      "text/html": [
       "<div>\n",
       "<style scoped>\n",
       "    .dataframe tbody tr th:only-of-type {\n",
       "        vertical-align: middle;\n",
       "    }\n",
       "\n",
       "    .dataframe tbody tr th {\n",
       "        vertical-align: top;\n",
       "    }\n",
       "\n",
       "    .dataframe thead th {\n",
       "        text-align: right;\n",
       "    }\n",
       "</style>\n",
       "<table border=\"1\" class=\"dataframe\">\n",
       "  <thead>\n",
       "    <tr style=\"text-align: right;\">\n",
       "      <th></th>\n",
       "      <th>price</th>\n",
       "      <th>location</th>\n",
       "      <th>baths</th>\n",
       "      <th>area_sqft</th>\n",
       "      <th>bedrooms</th>\n",
       "      <th>price_per_sqft</th>\n",
       "    </tr>\n",
       "  </thead>\n",
       "  <tbody>\n",
       "    <tr>\n",
       "      <th>0</th>\n",
       "      <td>8500000</td>\n",
       "      <td>ASF Tower</td>\n",
       "      <td>0</td>\n",
       "      <td>1905.76</td>\n",
       "      <td>0</td>\n",
       "      <td>4460.162875</td>\n",
       "    </tr>\n",
       "    <tr>\n",
       "      <th>1</th>\n",
       "      <td>5400000</td>\n",
       "      <td>ASF Tower</td>\n",
       "      <td>2</td>\n",
       "      <td>1279.58</td>\n",
       "      <td>2</td>\n",
       "      <td>4220.134732</td>\n",
       "    </tr>\n",
       "    <tr>\n",
       "      <th>2</th>\n",
       "      <td>4300000</td>\n",
       "      <td>ASF Tower</td>\n",
       "      <td>3</td>\n",
       "      <td>1878.53</td>\n",
       "      <td>3</td>\n",
       "      <td>2289.023864</td>\n",
       "    </tr>\n",
       "    <tr>\n",
       "      <th>3</th>\n",
       "      <td>5500000</td>\n",
       "      <td>ASF Tower</td>\n",
       "      <td>5</td>\n",
       "      <td>2423.03</td>\n",
       "      <td>4</td>\n",
       "      <td>2269.885226</td>\n",
       "    </tr>\n",
       "    <tr>\n",
       "      <th>4</th>\n",
       "      <td>7900000</td>\n",
       "      <td>ASF Tower</td>\n",
       "      <td>3</td>\n",
       "      <td>1878.53</td>\n",
       "      <td>3</td>\n",
       "      <td>4205.415937</td>\n",
       "    </tr>\n",
       "  </tbody>\n",
       "</table>\n",
       "</div>"
      ],
      "text/plain": [
       "     price   location  baths  area_sqft  bedrooms  price_per_sqft\n",
       "0  8500000  ASF Tower      0    1905.76         0     4460.162875\n",
       "1  5400000  ASF Tower      2    1279.58         2     4220.134732\n",
       "2  4300000  ASF Tower      3    1878.53         3     2289.023864\n",
       "3  5500000  ASF Tower      5    2423.03         4     2269.885226\n",
       "4  7900000  ASF Tower      3    1878.53         3     4205.415937"
      ]
     },
     "execution_count": 35,
     "metadata": {},
     "output_type": "execute_result"
    }
   ],
   "source": [
    "df4.head()"
   ]
  },
  {
   "cell_type": "code",
   "execution_count": 36,
   "id": "1d8d0e79-2b55-4ebd-8ed2-193f14e193d5",
   "metadata": {},
   "outputs": [
    {
     "data": {
      "image/png": "[encoded data removed]",
      "text/plain": [
       "<Figure size 600x400 with 1 Axes>"
      ]
     },
     "metadata": {},
     "output_type": "display_data"
    }
   ],
   "source": [
    "import matplotlib.pyplot as plt\n",
    "\n",
    "def plot_scatter_chart(df, location):\n",
    "    \"\"\"\n",
    "    Plots a scatter chart of price (in lakhs) against total square feet area for\n",
    "    2-bedroom and 3-bedroom apartments in a specified location.\n",
    "\n",
    "    Parameters:\n",
    "    - df (pd.DataFrame): The DataFrame containing real estate data.\n",
    "    - location (str): The location to filter the data by for plotting.\n",
    "    \"\"\"\n",
    "    # Filter the data for 2-bedroom and 3-bedroom apartments in the specified location\n",
    "    bedroom_2 = df[(df['location'] == location) & (df['bedrooms'] == 2)]\n",
    "    bedroom_3 = df[(df['location'] == location) & (df['bedrooms'] == 3)]\n",
    "    \n",
    "    # Set plot size\n",
    "    plt.rcParams[\"figure.figsize\"] = (6, 4)\n",
    "    \n",
    "    # Plot scatter points for 2-bedroom and 3-bedroom data\n",
    "    plt.scatter(x=bedroom_2['area_sqft'], y=bedroom_2['price'] / 100000, \n",
    "                color='blue', label=\"2 Bedroom\", s=50)\n",
    "    plt.scatter(x=bedroom_3['area_sqft'], y=bedroom_3['price'] / 100000, \n",
    "                marker='+', color=\"green\", label=\"3 Bedroom\", s=50)\n",
    "    \n",
    "    # Label the x-axis and y-axis\n",
    "    plt.xlabel(\"Total Square Feet Area\")\n",
    "    plt.ylabel(\"Price (in Lakhs)\")\n",
    "    \n",
    "    # Set the title to reflect the location\n",
    "    plt.title(f\"Price vs Area for 2 and 3 Bedroom Apartments in {location}\")\n",
    "    \n",
    "    # Display legend\n",
    "    plt.legend()\n",
    "    \n",
    "    # Show the plot\n",
    "    plt.show()\n",
    "\n",
    "# Example usage:\n",
    "plot_scatter_chart(df4, \"ASF Tower\")"
   ]
  },
  {
   "cell_type": "code",
   "execution_count": 37,
   "id": "ca4400f5-4c48-4da0-8260-7d4db1f2df79",
   "metadata": {},
   "outputs": [
    {
     "data": {
      "image/png": "[encoded data removed]",
      "text/plain": [
       "<Figure size 600x400 with 1 Axes>"
      ]
     },
     "metadata": {},
     "output_type": "display_data"
    }
   ],
   "source": [
    "plot_scatter_chart(df4, \"M. A. Jinnah Road\")"
   ]
  },
  {
   "cell_type": "code",
   "execution_count": 38,
   "id": "ade766f0-c47f-4ea6-a338-1e7708eea6dc",
   "metadata": {},
   "outputs": [],
   "source": [
    "def remove_bedrooms_outliers(df):\n",
    "    exclude_indices = np.array([])\n",
    "    for location, location_df in df.groupby(\"location\"):\n",
    "        bedroom_stats = {}\n",
    "        for bedroom, bedroom_df in location_df.groupby(\"bedrooms\"):\n",
    "            bedroom_stats[bedroom] = {\n",
    "                'mean' : np.mean(bedroom_df[\"price_per_sqft\"]),\n",
    "                'std' : np.std(bedroom_df[\"price_per_sqft\"]),\n",
    "                'count': bedroom_df.shape[0]\n",
    "            }\n",
    "        for bedroom, bedroom_df in location_df.groupby(\"bedrooms\"):\n",
    "            stats = bedroom_stats.get(bedroom - 1)\n",
    "            if stats and stats['count']>5:\n",
    "                exclude_indices = np.append(exclude_indices, bedroom_df[bedroom_df['price_per_sqft'] < (stats['mean'])].index.values)\n",
    "    return df.drop(exclude_indices, axis=\"index\")"
   ]
  },
  {
   "cell_type": "code",
   "execution_count": 39,
   "id": "eb29904d-bd8f-419a-bb6d-a5eb6426ba35",
   "metadata": {},
   "outputs": [
    {
     "data": {
      "text/plain": [
       "(20823, 6)"
      ]
     },
     "execution_count": 39,
     "metadata": {},
     "output_type": "execute_result"
    }
   ],
   "source": [
    "df5 = remove_bedrooms_outliers(df4)\n",
    "df5.shape"
   ]
  },
  {
   "cell_type": "code",
   "execution_count": 40,
   "id": "96ccbc6b-ebe8-4f8c-8c08-06001d0545c5",
   "metadata": {},
   "outputs": [
    {
     "data": {
      "image/png": "[encoded data removed]",
      "text/plain": [
       "<Figure size 600x400 with 1 Axes>"
      ]
     },
     "metadata": {},
     "output_type": "display_data"
    }
   ],
   "source": [
    "plot_scatter_chart(df5, \"ASF Tower\")"
   ]
  },
  {
   "cell_type": "code",
   "execution_count": 41,
   "id": "3c9b0a8e-bc48-4d89-83a5-4863de865d80",
   "metadata": {},
   "outputs": [
    {
     "data": {
      "image/png": "[encoded data removed]",
      "text/plain": [
       "<Figure size 600x400 with 1 Axes>"
      ]
     },
     "metadata": {},
     "output_type": "display_data"
    }
   ],
   "source": [
    "plot_scatter_chart(df5, \"M. A. Jinnah Road\")"
   ]
  },
  {
   "cell_type": "markdown",
   "id": "631e320d-361f-4b90-8de0-eb0b9473c9f5",
   "metadata": {},
   "source": [
    "#### Outlier Removal Using Bathrooms Feature"
   ]
  },
  {
   "cell_type": "code",
   "execution_count": 42,
   "id": "41b0ed12-99ed-43c1-90d1-c9f0f12e6f13",
   "metadata": {},
   "outputs": [
    {
     "data": {
      "text/plain": [
       "array([ 0,  2,  3,  5,  7,  8,  1,  4,  6,  9, 10], dtype=int64)"
      ]
     },
     "execution_count": 42,
     "metadata": {},
     "output_type": "execute_result"
    }
   ],
   "source": [
    "df5.baths.unique()"
   ]
  },
  {
   "cell_type": "code",
   "execution_count": 43,
   "id": "1efd1c99-f05e-4310-88cb-97f679d62083",
   "metadata": {},
   "outputs": [],
   "source": [
    "df6=df5[~(df5.baths==0)]"
   ]
  },
  {
   "cell_type": "code",
   "execution_count": 44,
   "id": "cf559cfc-5309-469c-a180-b77732365ceb",
   "metadata": {},
   "outputs": [
    {
     "data": {
      "text/plain": [
       "(15298, 6)"
      ]
     },
     "execution_count": 44,
     "metadata": {},
     "output_type": "execute_result"
    }
   ],
   "source": [
    "df6.shape"
   ]
  },
  {
   "cell_type": "code",
   "execution_count": 45,
   "id": "84cf0aab-ec95-40a4-9f80-151ac9d0d025",
   "metadata": {},
   "outputs": [
    {
     "data": {
      "image/png": "[encoded data removed]",
      "text/plain": [
       "<Figure size 600x400 with 1 Axes>"
      ]
     },
     "metadata": {},
     "output_type": "display_data"
    }
   ],
   "source": [
    "plt.hist(df6.baths,rwidth=0.8)\n",
    "plt.xlabel(\"Number of bathrooms\")\n",
    "plt.ylabel(\"Count\")\n",
    "plt.show()"
   ]
  },
  {
   "cell_type": "code",
   "execution_count": 46,
   "id": "df17bd54-b8d7-4378-8b31-c5026d124ce5",
   "metadata": {},
   "outputs": [
    {
     "data": {
      "text/html": [
       "<div>\n",
       "<style scoped>\n",
       "    .dataframe tbody tr th:only-of-type {\n",
       "        vertical-align: middle;\n",
       "    }\n",
       "\n",
       "    .dataframe tbody tr th {\n",
       "        vertical-align: top;\n",
       "    }\n",
       "\n",
       "    .dataframe thead th {\n",
       "        text-align: right;\n",
       "    }\n",
       "</style>\n",
       "<table border=\"1\" class=\"dataframe\">\n",
       "  <thead>\n",
       "    <tr style=\"text-align: right;\">\n",
       "      <th></th>\n",
       "      <th>price</th>\n",
       "      <th>location</th>\n",
       "      <th>baths</th>\n",
       "      <th>area_sqft</th>\n",
       "      <th>bedrooms</th>\n",
       "      <th>price_per_sqft</th>\n",
       "    </tr>\n",
       "  </thead>\n",
       "  <tbody>\n",
       "  </tbody>\n",
       "</table>\n",
       "</div>"
      ],
      "text/plain": [
       "Empty DataFrame\n",
       "Columns: [price, location, baths, area_sqft, bedrooms, price_per_sqft]\n",
       "Index: []"
      ]
     },
     "execution_count": 46,
     "metadata": {},
     "output_type": "execute_result"
    }
   ],
   "source": [
    "df6[df6.baths>df6.baths+2]"
   ]
  },
  {
   "cell_type": "code",
   "execution_count": 47,
   "id": "571d5a39-f8b2-46d9-b7b9-4b0427aeaf1f",
   "metadata": {},
   "outputs": [
    {
     "data": {
      "text/plain": [
       "array([ 2,  3,  4,  5,  0,  6,  8,  7,  1,  9, 11, 10], dtype=int64)"
      ]
     },
     "execution_count": 47,
     "metadata": {},
     "output_type": "execute_result"
    }
   ],
   "source": [
    "df6.bedrooms.unique()"
   ]
  },
  {
   "cell_type": "code",
   "execution_count": 48,
   "id": "fda4883f-d070-4cb6-9cd8-878b5334bdcd",
   "metadata": {},
   "outputs": [],
   "source": [
    "df7=df6[~(df6.bedrooms==0)]"
   ]
  },
  {
   "cell_type": "code",
   "execution_count": 49,
   "id": "6d024c65-bd41-4c52-896e-17f533972899",
   "metadata": {},
   "outputs": [
    {
     "data": {
      "text/plain": [
       "(15111, 6)"
      ]
     },
     "execution_count": 49,
     "metadata": {},
     "output_type": "execute_result"
    }
   ],
   "source": [
    "df7.shape"
   ]
  },
  {
   "cell_type": "code",
   "execution_count": 50,
   "id": "7f645645-c741-4a80-a811-03adb694a45f",
   "metadata": {},
   "outputs": [
    {
     "data": {
      "text/plain": [
       "array([ 2,  3,  4,  5,  6,  8,  7,  1,  9, 11, 10], dtype=int64)"
      ]
     },
     "execution_count": 50,
     "metadata": {},
     "output_type": "execute_result"
    }
   ],
   "source": [
    "df7.bedrooms.unique()"
   ]
  },
  {
   "cell_type": "code",
   "execution_count": 51,
   "id": "cac8101f-0372-4912-a439-4f32122e7f42",
   "metadata": {},
   "outputs": [
    {
     "data": {
      "text/html": [
       "<div>\n",
       "<style scoped>\n",
       "    .dataframe tbody tr th:only-of-type {\n",
       "        vertical-align: middle;\n",
       "    }\n",
       "\n",
       "    .dataframe tbody tr th {\n",
       "        vertical-align: top;\n",
       "    }\n",
       "\n",
       "    .dataframe thead th {\n",
       "        text-align: right;\n",
       "    }\n",
       "</style>\n",
       "<table border=\"1\" class=\"dataframe\">\n",
       "  <thead>\n",
       "    <tr style=\"text-align: right;\">\n",
       "      <th></th>\n",
       "      <th>price</th>\n",
       "      <th>location</th>\n",
       "      <th>baths</th>\n",
       "      <th>area_sqft</th>\n",
       "      <th>bedrooms</th>\n",
       "    </tr>\n",
       "  </thead>\n",
       "  <tbody>\n",
       "    <tr>\n",
       "      <th>1</th>\n",
       "      <td>5400000</td>\n",
       "      <td>ASF Tower</td>\n",
       "      <td>2</td>\n",
       "      <td>1279.58</td>\n",
       "      <td>2</td>\n",
       "    </tr>\n",
       "    <tr>\n",
       "      <th>2</th>\n",
       "      <td>4300000</td>\n",
       "      <td>ASF Tower</td>\n",
       "      <td>3</td>\n",
       "      <td>1878.53</td>\n",
       "      <td>3</td>\n",
       "    </tr>\n",
       "    <tr>\n",
       "      <th>3</th>\n",
       "      <td>5500000</td>\n",
       "      <td>ASF Tower</td>\n",
       "      <td>5</td>\n",
       "      <td>2423.03</td>\n",
       "      <td>4</td>\n",
       "    </tr>\n",
       "    <tr>\n",
       "      <th>4</th>\n",
       "      <td>7900000</td>\n",
       "      <td>ASF Tower</td>\n",
       "      <td>3</td>\n",
       "      <td>1878.53</td>\n",
       "      <td>3</td>\n",
       "    </tr>\n",
       "    <tr>\n",
       "      <th>5</th>\n",
       "      <td>5300000</td>\n",
       "      <td>ASF Tower</td>\n",
       "      <td>3</td>\n",
       "      <td>1633.51</td>\n",
       "      <td>3</td>\n",
       "    </tr>\n",
       "  </tbody>\n",
       "</table>\n",
       "</div>"
      ],
      "text/plain": [
       "     price   location  baths  area_sqft  bedrooms\n",
       "1  5400000  ASF Tower      2    1279.58         2\n",
       "2  4300000  ASF Tower      3    1878.53         3\n",
       "3  5500000  ASF Tower      5    2423.03         4\n",
       "4  7900000  ASF Tower      3    1878.53         3\n",
       "5  5300000  ASF Tower      3    1633.51         3"
      ]
     },
     "execution_count": 51,
     "metadata": {},
     "output_type": "execute_result"
    }
   ],
   "source": [
    "df8=df7.drop([\"price_per_sqft\"],axis=\"columns\")\n",
    "df8.head()"
   ]
  },
  {
   "cell_type": "code",
   "execution_count": 52,
   "id": "3dbef740-c736-48f8-9b1e-e0aa25100b30",
   "metadata": {},
   "outputs": [
    {
     "data": {
      "text/html": [
       "<div>\n",
       "<style scoped>\n",
       "    .dataframe tbody tr th:only-of-type {\n",
       "        vertical-align: middle;\n",
       "    }\n",
       "\n",
       "    .dataframe tbody tr th {\n",
       "        vertical-align: top;\n",
       "    }\n",
       "\n",
       "    .dataframe thead th {\n",
       "        text-align: right;\n",
       "    }\n",
       "</style>\n",
       "<table border=\"1\" class=\"dataframe\">\n",
       "  <thead>\n",
       "    <tr style=\"text-align: right;\">\n",
       "      <th></th>\n",
       "      <th>price</th>\n",
       "      <th>location</th>\n",
       "      <th>baths</th>\n",
       "      <th>area_sqft</th>\n",
       "      <th>bedrooms</th>\n",
       "      <th>price_per_sqft</th>\n",
       "    </tr>\n",
       "  </thead>\n",
       "  <tbody>\n",
       "  </tbody>\n",
       "</table>\n",
       "</div>"
      ],
      "text/plain": [
       "Empty DataFrame\n",
       "Columns: [price, location, baths, area_sqft, bedrooms, price_per_sqft]\n",
       "Index: []"
      ]
     },
     "execution_count": 52,
     "metadata": {},
     "output_type": "execute_result"
    }
   ],
   "source": [
    "df7[df7.price<=0]"
   ]
  },
  {
   "cell_type": "markdown",
   "id": "107dd76e-703b-41ed-823b-aea859e02bd7",
   "metadata": {},
   "source": [
    "### 3. Data Preprocessing\n",
    "   \n",
    "  #####    Encoding:\n",
    "    Use pd.get_dummies() for categorical data or LabelEncoder for ordinal data.\n",
    "\n",
    "   #####    Split Data: Separate data into training, validation, and test sets.\n",
    "    Example: train_test_split(data, test_size=0.2, random_state=42)"
   ]
  },
  {
   "cell_type": "markdown",
   "id": "95bbde66-f668-4576-8f52-d0e0196df5b1",
   "metadata": {},
   "source": [
    "#### Use One Hot Encoding For Location\n",
    "One-hot encoding is generally applied to the integer representation of the data. Here the integer encoded variable is removed and a new binary variable is added for each unique integer value"
   ]
  },
  {
   "cell_type": "code",
   "execution_count": 53,
   "id": "b32470e8-1398-41f6-91be-e4f96f47cf90",
   "metadata": {},
   "outputs": [
    {
     "data": {
      "text/html": [
       "<div>\n",
       "<style scoped>\n",
       "    .dataframe tbody tr th:only-of-type {\n",
       "        vertical-align: middle;\n",
       "    }\n",
       "\n",
       "    .dataframe tbody tr th {\n",
       "        vertical-align: top;\n",
       "    }\n",
       "\n",
       "    .dataframe thead th {\n",
       "        text-align: right;\n",
       "    }\n",
       "</style>\n",
       "<table border=\"1\" class=\"dataframe\">\n",
       "  <thead>\n",
       "    <tr style=\"text-align: right;\">\n",
       "      <th></th>\n",
       "      <th>ASF Tower</th>\n",
       "      <th>Abid Town</th>\n",
       "      <th>Abul Hassan Isphani Road</th>\n",
       "      <th>Airport</th>\n",
       "      <th>Aisha Manzil</th>\n",
       "      <th>Al-Hilal Society</th>\n",
       "      <th>Amir Khusro</th>\n",
       "      <th>Anda Mor Road</th>\n",
       "      <th>Azam Town</th>\n",
       "      <th>Bagh-e-Korangi</th>\n",
       "      <th>...</th>\n",
       "      <th>Shahrah-e-Pakistan</th>\n",
       "      <th>Sindh Industrial Trading Estate (SITE)</th>\n",
       "      <th>Stadium Road</th>\n",
       "      <th>Suparco Road</th>\n",
       "      <th>Super Highway</th>\n",
       "      <th>Tariq Road</th>\n",
       "      <th>Tipu Sultan Road</th>\n",
       "      <th>University Road</th>\n",
       "      <th>Zamzama</th>\n",
       "      <th>others</th>\n",
       "    </tr>\n",
       "  </thead>\n",
       "  <tbody>\n",
       "    <tr>\n",
       "      <th>1</th>\n",
       "      <td>True</td>\n",
       "      <td>False</td>\n",
       "      <td>False</td>\n",
       "      <td>False</td>\n",
       "      <td>False</td>\n",
       "      <td>False</td>\n",
       "      <td>False</td>\n",
       "      <td>False</td>\n",
       "      <td>False</td>\n",
       "      <td>False</td>\n",
       "      <td>...</td>\n",
       "      <td>False</td>\n",
       "      <td>False</td>\n",
       "      <td>False</td>\n",
       "      <td>False</td>\n",
       "      <td>False</td>\n",
       "      <td>False</td>\n",
       "      <td>False</td>\n",
       "      <td>False</td>\n",
       "      <td>False</td>\n",
       "      <td>False</td>\n",
       "    </tr>\n",
       "    <tr>\n",
       "      <th>2</th>\n",
       "      <td>True</td>\n",
       "      <td>False</td>\n",
       "      <td>False</td>\n",
       "      <td>False</td>\n",
       "      <td>False</td>\n",
       "      <td>False</td>\n",
       "      <td>False</td>\n",
       "      <td>False</td>\n",
       "      <td>False</td>\n",
       "      <td>False</td>\n",
       "      <td>...</td>\n",
       "      <td>False</td>\n",
       "      <td>False</td>\n",
       "      <td>False</td>\n",
       "      <td>False</td>\n",
       "      <td>False</td>\n",
       "      <td>False</td>\n",
       "      <td>False</td>\n",
       "      <td>False</td>\n",
       "      <td>False</td>\n",
       "      <td>False</td>\n",
       "    </tr>\n",
       "    <tr>\n",
       "      <th>3</th>\n",
       "      <td>True</td>\n",
       "      <td>False</td>\n",
       "      <td>False</td>\n",
       "      <td>False</td>\n",
       "      <td>False</td>\n",
       "      <td>False</td>\n",
       "      <td>False</td>\n",
       "      <td>False</td>\n",
       "      <td>False</td>\n",
       "      <td>False</td>\n",
       "      <td>...</td>\n",
       "      <td>False</td>\n",
       "      <td>False</td>\n",
       "      <td>False</td>\n",
       "      <td>False</td>\n",
       "      <td>False</td>\n",
       "      <td>False</td>\n",
       "      <td>False</td>\n",
       "      <td>False</td>\n",
       "      <td>False</td>\n",
       "      <td>False</td>\n",
       "    </tr>\n",
       "  </tbody>\n",
       "</table>\n",
       "<p>3 rows × 111 columns</p>\n",
       "</div>"
      ],
      "text/plain": [
       "   ASF Tower  Abid Town  Abul Hassan Isphani Road  Airport  Aisha Manzil  \\\n",
       "1       True      False                     False    False         False   \n",
       "2       True      False                     False    False         False   \n",
       "3       True      False                     False    False         False   \n",
       "\n",
       "   Al-Hilal Society  Amir Khusro  Anda Mor Road  Azam Town  Bagh-e-Korangi  \\\n",
       "1             False        False          False      False           False   \n",
       "2             False        False          False      False           False   \n",
       "3             False        False          False      False           False   \n",
       "\n",
       "   ...  Shahrah-e-Pakistan  Sindh Industrial Trading Estate (SITE)  \\\n",
       "1  ...               False                                   False   \n",
       "2  ...               False                                   False   \n",
       "3  ...               False                                   False   \n",
       "\n",
       "   Stadium Road  Suparco Road  Super Highway  Tariq Road  Tipu Sultan Road  \\\n",
       "1         False         False          False       False             False   \n",
       "2         False         False          False       False             False   \n",
       "3         False         False          False       False             False   \n",
       "\n",
       "   University Road  Zamzama  others  \n",
       "1            False    False   False  \n",
       "2            False    False   False  \n",
       "3            False    False   False  \n",
       "\n",
       "[3 rows x 111 columns]"
      ]
     },
     "execution_count": 53,
     "metadata": {},
     "output_type": "execute_result"
    }
   ],
   "source": [
    "dummies = pd.get_dummies(df8.location)\n",
    "dummies.head(3)"
   ]
  },
  {
   "cell_type": "code",
   "execution_count": 54,
   "id": "e28b121b-8844-4332-9ee3-b0a1de6a7981",
   "metadata": {},
   "outputs": [
    {
     "data": {
      "text/html": [
       "<div>\n",
       "<style scoped>\n",
       "    .dataframe tbody tr th:only-of-type {\n",
       "        vertical-align: middle;\n",
       "    }\n",
       "\n",
       "    .dataframe tbody tr th {\n",
       "        vertical-align: top;\n",
       "    }\n",
       "\n",
       "    .dataframe thead th {\n",
       "        text-align: right;\n",
       "    }\n",
       "</style>\n",
       "<table border=\"1\" class=\"dataframe\">\n",
       "  <thead>\n",
       "    <tr style=\"text-align: right;\">\n",
       "      <th></th>\n",
       "      <th>price</th>\n",
       "      <th>location</th>\n",
       "      <th>baths</th>\n",
       "      <th>area_sqft</th>\n",
       "      <th>bedrooms</th>\n",
       "      <th>ASF Tower</th>\n",
       "      <th>Abid Town</th>\n",
       "      <th>Abul Hassan Isphani Road</th>\n",
       "      <th>Airport</th>\n",
       "      <th>Aisha Manzil</th>\n",
       "      <th>...</th>\n",
       "      <th>Shahra-e-Qaideen</th>\n",
       "      <th>Shahrah-e-Pakistan</th>\n",
       "      <th>Sindh Industrial Trading Estate (SITE)</th>\n",
       "      <th>Stadium Road</th>\n",
       "      <th>Suparco Road</th>\n",
       "      <th>Super Highway</th>\n",
       "      <th>Tariq Road</th>\n",
       "      <th>Tipu Sultan Road</th>\n",
       "      <th>University Road</th>\n",
       "      <th>Zamzama</th>\n",
       "    </tr>\n",
       "  </thead>\n",
       "  <tbody>\n",
       "    <tr>\n",
       "      <th>1</th>\n",
       "      <td>5400000</td>\n",
       "      <td>ASF Tower</td>\n",
       "      <td>2</td>\n",
       "      <td>1279.58</td>\n",
       "      <td>2</td>\n",
       "      <td>True</td>\n",
       "      <td>False</td>\n",
       "      <td>False</td>\n",
       "      <td>False</td>\n",
       "      <td>False</td>\n",
       "      <td>...</td>\n",
       "      <td>False</td>\n",
       "      <td>False</td>\n",
       "      <td>False</td>\n",
       "      <td>False</td>\n",
       "      <td>False</td>\n",
       "      <td>False</td>\n",
       "      <td>False</td>\n",
       "      <td>False</td>\n",
       "      <td>False</td>\n",
       "      <td>False</td>\n",
       "    </tr>\n",
       "    <tr>\n",
       "      <th>2</th>\n",
       "      <td>4300000</td>\n",
       "      <td>ASF Tower</td>\n",
       "      <td>3</td>\n",
       "      <td>1878.53</td>\n",
       "      <td>3</td>\n",
       "      <td>True</td>\n",
       "      <td>False</td>\n",
       "      <td>False</td>\n",
       "      <td>False</td>\n",
       "      <td>False</td>\n",
       "      <td>...</td>\n",
       "      <td>False</td>\n",
       "      <td>False</td>\n",
       "      <td>False</td>\n",
       "      <td>False</td>\n",
       "      <td>False</td>\n",
       "      <td>False</td>\n",
       "      <td>False</td>\n",
       "      <td>False</td>\n",
       "      <td>False</td>\n",
       "      <td>False</td>\n",
       "    </tr>\n",
       "    <tr>\n",
       "      <th>3</th>\n",
       "      <td>5500000</td>\n",
       "      <td>ASF Tower</td>\n",
       "      <td>5</td>\n",
       "      <td>2423.03</td>\n",
       "      <td>4</td>\n",
       "      <td>True</td>\n",
       "      <td>False</td>\n",
       "      <td>False</td>\n",
       "      <td>False</td>\n",
       "      <td>False</td>\n",
       "      <td>...</td>\n",
       "      <td>False</td>\n",
       "      <td>False</td>\n",
       "      <td>False</td>\n",
       "      <td>False</td>\n",
       "      <td>False</td>\n",
       "      <td>False</td>\n",
       "      <td>False</td>\n",
       "      <td>False</td>\n",
       "      <td>False</td>\n",
       "      <td>False</td>\n",
       "    </tr>\n",
       "  </tbody>\n",
       "</table>\n",
       "<p>3 rows × 115 columns</p>\n",
       "</div>"
      ],
      "text/plain": [
       "     price   location  baths  area_sqft  bedrooms  ASF Tower  Abid Town  \\\n",
       "1  5400000  ASF Tower      2    1279.58         2       True      False   \n",
       "2  4300000  ASF Tower      3    1878.53         3       True      False   \n",
       "3  5500000  ASF Tower      5    2423.03         4       True      False   \n",
       "\n",
       "   Abul Hassan Isphani Road  Airport  Aisha Manzil  ...  Shahra-e-Qaideen  \\\n",
       "1                     False    False         False  ...             False   \n",
       "2                     False    False         False  ...             False   \n",
       "3                     False    False         False  ...             False   \n",
       "\n",
       "   Shahrah-e-Pakistan  Sindh Industrial Trading Estate (SITE)  Stadium Road  \\\n",
       "1               False                                   False         False   \n",
       "2               False                                   False         False   \n",
       "3               False                                   False         False   \n",
       "\n",
       "   Suparco Road  Super Highway  Tariq Road  Tipu Sultan Road  University Road  \\\n",
       "1         False          False       False             False            False   \n",
       "2         False          False       False             False            False   \n",
       "3         False          False       False             False            False   \n",
       "\n",
       "   Zamzama  \n",
       "1    False  \n",
       "2    False  \n",
       "3    False  \n",
       "\n",
       "[3 rows x 115 columns]"
      ]
     },
     "execution_count": 54,
     "metadata": {},
     "output_type": "execute_result"
    }
   ],
   "source": [
    "df9 = pd.concat([df8,dummies.drop('others',axis='columns')],axis='columns')\n",
    "df9.head(3)"
   ]
  },
  {
   "cell_type": "code",
   "execution_count": 55,
   "id": "b1402dad-3411-41cb-a7c2-844d32235be6",
   "metadata": {},
   "outputs": [
    {
     "data": {
      "text/html": [
       "<div>\n",
       "<style scoped>\n",
       "    .dataframe tbody tr th:only-of-type {\n",
       "        vertical-align: middle;\n",
       "    }\n",
       "\n",
       "    .dataframe tbody tr th {\n",
       "        vertical-align: top;\n",
       "    }\n",
       "\n",
       "    .dataframe thead th {\n",
       "        text-align: right;\n",
       "    }\n",
       "</style>\n",
       "<table border=\"1\" class=\"dataframe\">\n",
       "  <thead>\n",
       "    <tr style=\"text-align: right;\">\n",
       "      <th></th>\n",
       "      <th>price</th>\n",
       "      <th>baths</th>\n",
       "      <th>area_sqft</th>\n",
       "      <th>bedrooms</th>\n",
       "      <th>ASF Tower</th>\n",
       "      <th>Abid Town</th>\n",
       "      <th>Abul Hassan Isphani Road</th>\n",
       "      <th>Airport</th>\n",
       "      <th>Aisha Manzil</th>\n",
       "      <th>Al-Hilal Society</th>\n",
       "      <th>...</th>\n",
       "      <th>Shahra-e-Qaideen</th>\n",
       "      <th>Shahrah-e-Pakistan</th>\n",
       "      <th>Sindh Industrial Trading Estate (SITE)</th>\n",
       "      <th>Stadium Road</th>\n",
       "      <th>Suparco Road</th>\n",
       "      <th>Super Highway</th>\n",
       "      <th>Tariq Road</th>\n",
       "      <th>Tipu Sultan Road</th>\n",
       "      <th>University Road</th>\n",
       "      <th>Zamzama</th>\n",
       "    </tr>\n",
       "  </thead>\n",
       "  <tbody>\n",
       "    <tr>\n",
       "      <th>1</th>\n",
       "      <td>5400000</td>\n",
       "      <td>2</td>\n",
       "      <td>1279.58</td>\n",
       "      <td>2</td>\n",
       "      <td>True</td>\n",
       "      <td>False</td>\n",
       "      <td>False</td>\n",
       "      <td>False</td>\n",
       "      <td>False</td>\n",
       "      <td>False</td>\n",
       "      <td>...</td>\n",
       "      <td>False</td>\n",
       "      <td>False</td>\n",
       "      <td>False</td>\n",
       "      <td>False</td>\n",
       "      <td>False</td>\n",
       "      <td>False</td>\n",
       "      <td>False</td>\n",
       "      <td>False</td>\n",
       "      <td>False</td>\n",
       "      <td>False</td>\n",
       "    </tr>\n",
       "    <tr>\n",
       "      <th>2</th>\n",
       "      <td>4300000</td>\n",
       "      <td>3</td>\n",
       "      <td>1878.53</td>\n",
       "      <td>3</td>\n",
       "      <td>True</td>\n",
       "      <td>False</td>\n",
       "      <td>False</td>\n",
       "      <td>False</td>\n",
       "      <td>False</td>\n",
       "      <td>False</td>\n",
       "      <td>...</td>\n",
       "      <td>False</td>\n",
       "      <td>False</td>\n",
       "      <td>False</td>\n",
       "      <td>False</td>\n",
       "      <td>False</td>\n",
       "      <td>False</td>\n",
       "      <td>False</td>\n",
       "      <td>False</td>\n",
       "      <td>False</td>\n",
       "      <td>False</td>\n",
       "    </tr>\n",
       "  </tbody>\n",
       "</table>\n",
       "<p>2 rows × 114 columns</p>\n",
       "</div>"
      ],
      "text/plain": [
       "     price  baths  area_sqft  bedrooms  ASF Tower  Abid Town  \\\n",
       "1  5400000      2    1279.58         2       True      False   \n",
       "2  4300000      3    1878.53         3       True      False   \n",
       "\n",
       "   Abul Hassan Isphani Road  Airport  Aisha Manzil  Al-Hilal Society  ...  \\\n",
       "1                     False    False         False             False  ...   \n",
       "2                     False    False         False             False  ...   \n",
       "\n",
       "   Shahra-e-Qaideen  Shahrah-e-Pakistan  \\\n",
       "1             False               False   \n",
       "2             False               False   \n",
       "\n",
       "   Sindh Industrial Trading Estate (SITE)  Stadium Road  Suparco Road  \\\n",
       "1                                   False         False         False   \n",
       "2                                   False         False         False   \n",
       "\n",
       "   Super Highway  Tariq Road  Tipu Sultan Road  University Road  Zamzama  \n",
       "1          False       False             False            False    False  \n",
       "2          False       False             False            False    False  \n",
       "\n",
       "[2 rows x 114 columns]"
      ]
     },
     "execution_count": 55,
     "metadata": {},
     "output_type": "execute_result"
    }
   ],
   "source": [
    "df10 = df9.drop('location',axis='columns')\n",
    "df10.head(2)"
   ]
  },
  {
   "cell_type": "code",
   "execution_count": 56,
   "id": "a3f1a228-026c-4474-a02e-c1c465eab1c7",
   "metadata": {},
   "outputs": [
    {
     "data": {
      "text/plain": [
       "(15111, 114)"
      ]
     },
     "execution_count": 56,
     "metadata": {},
     "output_type": "execute_result"
    }
   ],
   "source": [
    "df10.shape"
   ]
  },
  {
   "cell_type": "code",
   "execution_count": 57,
   "id": "f73fb822-86e9-49eb-878d-05c4b0f770fc",
   "metadata": {},
   "outputs": [
    {
     "data": {
      "text/html": [
       "<div>\n",
       "<style scoped>\n",
       "    .dataframe tbody tr th:only-of-type {\n",
       "        vertical-align: middle;\n",
       "    }\n",
       "\n",
       "    .dataframe tbody tr th {\n",
       "        vertical-align: top;\n",
       "    }\n",
       "\n",
       "    .dataframe thead th {\n",
       "        text-align: right;\n",
       "    }\n",
       "</style>\n",
       "<table border=\"1\" class=\"dataframe\">\n",
       "  <thead>\n",
       "    <tr style=\"text-align: right;\">\n",
       "      <th></th>\n",
       "      <th>baths</th>\n",
       "      <th>area_sqft</th>\n",
       "      <th>bedrooms</th>\n",
       "      <th>ASF Tower</th>\n",
       "      <th>Abid Town</th>\n",
       "      <th>Abul Hassan Isphani Road</th>\n",
       "      <th>Airport</th>\n",
       "      <th>Aisha Manzil</th>\n",
       "      <th>Al-Hilal Society</th>\n",
       "      <th>Amir Khusro</th>\n",
       "      <th>...</th>\n",
       "      <th>Shahra-e-Qaideen</th>\n",
       "      <th>Shahrah-e-Pakistan</th>\n",
       "      <th>Sindh Industrial Trading Estate (SITE)</th>\n",
       "      <th>Stadium Road</th>\n",
       "      <th>Suparco Road</th>\n",
       "      <th>Super Highway</th>\n",
       "      <th>Tariq Road</th>\n",
       "      <th>Tipu Sultan Road</th>\n",
       "      <th>University Road</th>\n",
       "      <th>Zamzama</th>\n",
       "    </tr>\n",
       "  </thead>\n",
       "  <tbody>\n",
       "    <tr>\n",
       "      <th>1</th>\n",
       "      <td>2</td>\n",
       "      <td>1279.58</td>\n",
       "      <td>2</td>\n",
       "      <td>True</td>\n",
       "      <td>False</td>\n",
       "      <td>False</td>\n",
       "      <td>False</td>\n",
       "      <td>False</td>\n",
       "      <td>False</td>\n",
       "      <td>False</td>\n",
       "      <td>...</td>\n",
       "      <td>False</td>\n",
       "      <td>False</td>\n",
       "      <td>False</td>\n",
       "      <td>False</td>\n",
       "      <td>False</td>\n",
       "      <td>False</td>\n",
       "      <td>False</td>\n",
       "      <td>False</td>\n",
       "      <td>False</td>\n",
       "      <td>False</td>\n",
       "    </tr>\n",
       "    <tr>\n",
       "      <th>2</th>\n",
       "      <td>3</td>\n",
       "      <td>1878.53</td>\n",
       "      <td>3</td>\n",
       "      <td>True</td>\n",
       "      <td>False</td>\n",
       "      <td>False</td>\n",
       "      <td>False</td>\n",
       "      <td>False</td>\n",
       "      <td>False</td>\n",
       "      <td>False</td>\n",
       "      <td>...</td>\n",
       "      <td>False</td>\n",
       "      <td>False</td>\n",
       "      <td>False</td>\n",
       "      <td>False</td>\n",
       "      <td>False</td>\n",
       "      <td>False</td>\n",
       "      <td>False</td>\n",
       "      <td>False</td>\n",
       "      <td>False</td>\n",
       "      <td>False</td>\n",
       "    </tr>\n",
       "    <tr>\n",
       "      <th>3</th>\n",
       "      <td>5</td>\n",
       "      <td>2423.03</td>\n",
       "      <td>4</td>\n",
       "      <td>True</td>\n",
       "      <td>False</td>\n",
       "      <td>False</td>\n",
       "      <td>False</td>\n",
       "      <td>False</td>\n",
       "      <td>False</td>\n",
       "      <td>False</td>\n",
       "      <td>...</td>\n",
       "      <td>False</td>\n",
       "      <td>False</td>\n",
       "      <td>False</td>\n",
       "      <td>False</td>\n",
       "      <td>False</td>\n",
       "      <td>False</td>\n",
       "      <td>False</td>\n",
       "      <td>False</td>\n",
       "      <td>False</td>\n",
       "      <td>False</td>\n",
       "    </tr>\n",
       "    <tr>\n",
       "      <th>4</th>\n",
       "      <td>3</td>\n",
       "      <td>1878.53</td>\n",
       "      <td>3</td>\n",
       "      <td>True</td>\n",
       "      <td>False</td>\n",
       "      <td>False</td>\n",
       "      <td>False</td>\n",
       "      <td>False</td>\n",
       "      <td>False</td>\n",
       "      <td>False</td>\n",
       "      <td>...</td>\n",
       "      <td>False</td>\n",
       "      <td>False</td>\n",
       "      <td>False</td>\n",
       "      <td>False</td>\n",
       "      <td>False</td>\n",
       "      <td>False</td>\n",
       "      <td>False</td>\n",
       "      <td>False</td>\n",
       "      <td>False</td>\n",
       "      <td>False</td>\n",
       "    </tr>\n",
       "    <tr>\n",
       "      <th>5</th>\n",
       "      <td>3</td>\n",
       "      <td>1633.51</td>\n",
       "      <td>3</td>\n",
       "      <td>True</td>\n",
       "      <td>False</td>\n",
       "      <td>False</td>\n",
       "      <td>False</td>\n",
       "      <td>False</td>\n",
       "      <td>False</td>\n",
       "      <td>False</td>\n",
       "      <td>...</td>\n",
       "      <td>False</td>\n",
       "      <td>False</td>\n",
       "      <td>False</td>\n",
       "      <td>False</td>\n",
       "      <td>False</td>\n",
       "      <td>False</td>\n",
       "      <td>False</td>\n",
       "      <td>False</td>\n",
       "      <td>False</td>\n",
       "      <td>False</td>\n",
       "    </tr>\n",
       "  </tbody>\n",
       "</table>\n",
       "<p>5 rows × 113 columns</p>\n",
       "</div>"
      ],
      "text/plain": [
       "   baths  area_sqft  bedrooms  ASF Tower  Abid Town  Abul Hassan Isphani Road  \\\n",
       "1      2    1279.58         2       True      False                     False   \n",
       "2      3    1878.53         3       True      False                     False   \n",
       "3      5    2423.03         4       True      False                     False   \n",
       "4      3    1878.53         3       True      False                     False   \n",
       "5      3    1633.51         3       True      False                     False   \n",
       "\n",
       "   Airport  Aisha Manzil  Al-Hilal Society  Amir Khusro  ...  \\\n",
       "1    False         False             False        False  ...   \n",
       "2    False         False             False        False  ...   \n",
       "3    False         False             False        False  ...   \n",
       "4    False         False             False        False  ...   \n",
       "5    False         False             False        False  ...   \n",
       "\n",
       "   Shahra-e-Qaideen  Shahrah-e-Pakistan  \\\n",
       "1             False               False   \n",
       "2             False               False   \n",
       "3             False               False   \n",
       "4             False               False   \n",
       "5             False               False   \n",
       "\n",
       "   Sindh Industrial Trading Estate (SITE)  Stadium Road  Suparco Road  \\\n",
       "1                                   False         False         False   \n",
       "2                                   False         False         False   \n",
       "3                                   False         False         False   \n",
       "4                                   False         False         False   \n",
       "5                                   False         False         False   \n",
       "\n",
       "   Super Highway  Tariq Road  Tipu Sultan Road  University Road  Zamzama  \n",
       "1          False       False             False            False    False  \n",
       "2          False       False             False            False    False  \n",
       "3          False       False             False            False    False  \n",
       "4          False       False             False            False    False  \n",
       "5          False       False             False            False    False  \n",
       "\n",
       "[5 rows x 113 columns]"
      ]
     },
     "execution_count": 57,
     "metadata": {},
     "output_type": "execute_result"
    }
   ],
   "source": [
    "X=df10.drop(\"price\",axis=\"columns\")\n",
    "X.head()"
   ]
  },
  {
   "cell_type": "code",
   "execution_count": 58,
   "id": "0bb7da9e-772c-4231-9929-b8549c73407d",
   "metadata": {},
   "outputs": [
    {
     "data": {
      "text/plain": [
       "1    5400000\n",
       "2    4300000\n",
       "3    5500000\n",
       "4    7900000\n",
       "5    5300000\n",
       "Name: price, dtype: int64"
      ]
     },
     "execution_count": 58,
     "metadata": {},
     "output_type": "execute_result"
    }
   ],
   "source": [
    "y=df10.price\n",
    "y.head()"
   ]
  },
  {
   "cell_type": "markdown",
   "id": "888540d7-69cb-4d06-bdc6-181277f1d7c4",
   "metadata": {},
   "source": [
    "#### Split Data: Separate data into training, validation, and test sets.\n",
    "    Example: train_test_split(data, test_size=0.2, random_state=42)"
   ]
  },
  {
   "cell_type": "code",
   "execution_count": 59,
   "id": "1d55dacf-5b7d-4707-8816-9e63c4fb3340",
   "metadata": {},
   "outputs": [],
   "source": [
    "from sklearn.model_selection import train_test_split\n",
    "X_train,X_test,y_train,y_test=train_test_split(X,y, test_size=0.2, random_state=42)"
   ]
  },
  {
   "cell_type": "markdown",
   "id": "73610e13-4bde-4ca2-96f3-3d783cc84e29",
   "metadata": {},
   "source": [
    "### LinearRegression"
   ]
  },
  {
   "cell_type": "code",
   "execution_count": 60,
   "id": "68fb0e73-d2df-46c5-8cd9-8e125855d8a5",
   "metadata": {},
   "outputs": [
    {
     "data": {
      "text/plain": [
       "0.8869135389272071"
      ]
     },
     "execution_count": 60,
     "metadata": {},
     "output_type": "execute_result"
    }
   ],
   "source": [
    "from sklearn.linear_model import LinearRegression\n",
    "lr = LinearRegression()\n",
    "lr.fit(X_train,y_train)\n",
    "lr.score(X_test,y_test)"
   ]
  },
  {
   "cell_type": "code",
   "execution_count": 61,
   "id": "fb34d27f-a91f-4968-84ff-c6c61492737c",
   "metadata": {},
   "outputs": [
    {
     "name": "stdout",
     "output_type": "stream",
     "text": [
      "0.8869135389272071\n"
     ]
    }
   ],
   "source": [
    "from sklearn.metrics import r2_score\n",
    "y_pred = lr.predict(X_test)\n",
    "print(r2_score(y_test, y_pred))"
   ]
  },
  {
   "cell_type": "markdown",
   "id": "82c2e1de-ec5d-45db-8579-dac7f5888850",
   "metadata": {},
   "source": [
    "### GradientBoostingRegressor"
   ]
  },
  {
   "cell_type": "code",
   "execution_count": 62,
   "id": "6efb2382-2b09-431c-8c05-35ecff64f6f7",
   "metadata": {},
   "outputs": [
    {
     "name": "stdout",
     "output_type": "stream",
     "text": [
      "Model Accuracy: 0.964\n"
     ]
    }
   ],
   "source": [
    "from sklearn.ensemble import GradientBoostingRegressor\n",
    "\n",
    "gbr_params = {'n_estimators': 1000,\n",
    "          'max_depth': 3,\n",
    "          'min_samples_split': 5,\n",
    "          'learning_rate': 0.01,\n",
    "          }\n",
    "gbr = GradientBoostingRegressor(**gbr_params)\n",
    "#\n",
    "# Fit the model\n",
    "#\n",
    "gbr.fit(X_train, y_train)\n",
    "\n",
    "# Print Coefficient of determination R^2\n",
    "#\n",
    "print(\"Model Accuracy: %.3f\" % gbr.score(X_test, y_test))"
   ]
  },
  {
   "cell_type": "markdown",
   "id": "e5fcad02-d7c5-4c09-8e29-436f250b8990",
   "metadata": {},
   "source": [
    "### DecisionTreeRegressor"
   ]
  },
  {
   "cell_type": "code",
   "execution_count": 63,
   "id": "39258572-1066-40e2-ba62-edd8a6ffd007",
   "metadata": {},
   "outputs": [
    {
     "data": {
      "text/plain": [
       "0.9693914441689259"
      ]
     },
     "execution_count": 63,
     "metadata": {},
     "output_type": "execute_result"
    }
   ],
   "source": [
    "from sklearn.tree import DecisionTreeRegressor\n",
    "\n",
    "# create the decision tree regressor object\n",
    "dtr = DecisionTreeRegressor(criterion='poisson', splitter='best', random_state=0)\n",
    "\n",
    "# fit the regressor to the training data\n",
    "dtr.fit(X_train,y_train)\n",
    "dtr.score(X_test,y_test)"
   ]
  },
  {
   "cell_type": "code",
   "execution_count": 64,
   "id": "718857f0-179e-4abc-9dbe-f122d786156c",
   "metadata": {},
   "outputs": [
    {
     "name": "stdout",
     "output_type": "stream",
     "text": [
      "Accuracy: 99.92%\n"
     ]
    }
   ],
   "source": [
    "from sklearn.metrics import mean_absolute_error\n",
    "\n",
    "\n",
    "predictions = dtr.predict(X)\n",
    "mae = mean_absolute_error(y, predictions)\n",
    "\n",
    "# define the tolerance (5% of the range of the target variable)\n",
    "tolerance = 0.05 * (np.max(y) - np.min(y))\n",
    "\n",
    "# calculate the number of predictions that are within the tolerance of the true values\n",
    "num_correct = np.sum(np.abs(y - predictions) <= tolerance)\n",
    "\n",
    "# calculate the accuracy as a percentage of the number of correct predictions\n",
    "accuracy = 100 * num_correct / len(y)\n",
    "\n",
    "print(\"Accuracy: {:.2f}%\".format(accuracy))"
   ]
  },
  {
   "cell_type": "markdown",
   "id": "761f4074-a0ef-4345-a9b3-4ef6d8819bc9",
   "metadata": {},
   "source": [
    "#### Use K Fold cross validation to measure accuracy of our LinearRegression model"
   ]
  },
  {
   "cell_type": "code",
   "execution_count": 65,
   "id": "805b2499-f435-431e-9998-2ba50ade61b0",
   "metadata": {},
   "outputs": [
    {
     "data": {
      "text/plain": [
       "array([0.83857242, 0.87995462, 0.83502848, 0.81009605, 0.88424695])"
      ]
     },
     "execution_count": 65,
     "metadata": {},
     "output_type": "execute_result"
    }
   ],
   "source": [
    "from sklearn.model_selection import ShuffleSplit\n",
    "from sklearn.model_selection import cross_val_score\n",
    "\n",
    "cv = ShuffleSplit(n_splits=5, test_size=0.2, random_state=0)\n",
    "\n",
    "cross_val_score(LinearRegression(), X, y, cv=cv)"
   ]
  },
  {
   "cell_type": "markdown",
   "id": "613e20a6-0482-40ea-b5ce-a05c5880015b",
   "metadata": {},
   "source": [
    "#### Use K Fold cross validation to measure accuracy of our GradientBoostRegressor model"
   ]
  },
  {
   "cell_type": "code",
   "execution_count": 66,
   "id": "0d9d3736-31d8-4982-8062-4465ed2d4f02",
   "metadata": {},
   "outputs": [
    {
     "data": {
      "text/plain": [
       "array([0.96265253, 0.96909667, 0.90789823, 0.96890474, 0.96769463])"
      ]
     },
     "execution_count": 66,
     "metadata": {},
     "output_type": "execute_result"
    }
   ],
   "source": [
    "cv = ShuffleSplit(n_splits=5, test_size=0.2, random_state=0)\n",
    "\n",
    "cross_val_score(GradientBoostingRegressor(), X, y, cv=cv)"
   ]
  },
  {
   "cell_type": "markdown",
   "id": "af92a74e-0508-4982-9738-c245ab402c49",
   "metadata": {},
   "source": [
    "#### Use K Fold cross validation to measure accuracy of our DecisionTreeRegressor model"
   ]
  },
  {
   "cell_type": "code",
   "execution_count": 67,
   "id": "7583188b-8591-48e6-95d5-831f9d0fb2d6",
   "metadata": {},
   "outputs": [
    {
     "data": {
      "text/plain": [
       "array([0.97170391, 0.96431458, 0.92262809, 0.97701644, 0.97858307])"
      ]
     },
     "execution_count": 67,
     "metadata": {},
     "output_type": "execute_result"
    }
   ],
   "source": [
    "cv = ShuffleSplit(n_splits=5, test_size=0.2, random_state=0)\n",
    "\n",
    "cross_val_score(DecisionTreeRegressor(), X, y, cv=cv)"
   ]
  },
  {
   "cell_type": "markdown",
   "id": "cdbf13bb-818f-49e9-be33-978e7b62bdc4",
   "metadata": {},
   "source": [
    "### Find best model using GridSearchCV"
   ]
  },
  {
   "cell_type": "code",
   "execution_count": 68,
   "id": "b47f37c4-d9fb-4a6e-a398-49982792b402",
   "metadata": {},
   "outputs": [
    {
     "name": "stderr",
     "output_type": "stream",
     "text": [
      "C:\\Users\\User\\anaconda3\\Lib\\site-packages\\sklearn\\linear_model\\_coordinate_descent.py:697: ConvergenceWarning: Objective did not converge. You might want to increase the number of iterations, check the scale of the features or consider increasing regularisation. Duality gap: 7.660e+17, tolerance: 1.262e+15\n",
      "  model = cd_fast.enet_coordinate_descent(\n",
      "C:\\Users\\User\\anaconda3\\Lib\\site-packages\\sklearn\\linear_model\\_coordinate_descent.py:697: ConvergenceWarning: Objective did not converge. You might want to increase the number of iterations, check the scale of the features or consider increasing regularisation. Duality gap: 7.980e+17, tolerance: 1.183e+15\n",
      "  model = cd_fast.enet_coordinate_descent(\n",
      "C:\\Users\\User\\anaconda3\\Lib\\site-packages\\sklearn\\linear_model\\_coordinate_descent.py:697: ConvergenceWarning: Objective did not converge. You might want to increase the number of iterations, check the scale of the features or consider increasing regularisation. Duality gap: 2.880e+17, tolerance: 1.141e+15\n",
      "  model = cd_fast.enet_coordinate_descent(\n",
      "C:\\Users\\User\\anaconda3\\Lib\\site-packages\\sklearn\\linear_model\\_coordinate_descent.py:697: ConvergenceWarning: Objective did not converge. You might want to increase the number of iterations, check the scale of the features or consider increasing regularisation. Duality gap: 7.433e+17, tolerance: 1.247e+15\n",
      "  model = cd_fast.enet_coordinate_descent(\n",
      "C:\\Users\\User\\anaconda3\\Lib\\site-packages\\sklearn\\linear_model\\_coordinate_descent.py:697: ConvergenceWarning: Objective did not converge. You might want to increase the number of iterations, check the scale of the features or consider increasing regularisation. Duality gap: 8.214e+17, tolerance: 1.217e+15\n",
      "  model = cd_fast.enet_coordinate_descent(\n",
      "C:\\Users\\User\\anaconda3\\Lib\\site-packages\\sklearn\\linear_model\\_coordinate_descent.py:697: ConvergenceWarning: Objective did not converge. You might want to increase the number of iterations, check the scale of the features or consider increasing regularisation. Duality gap: 7.622e+17, tolerance: 1.262e+15\n",
      "  model = cd_fast.enet_coordinate_descent(\n",
      "C:\\Users\\User\\anaconda3\\Lib\\site-packages\\sklearn\\linear_model\\_coordinate_descent.py:697: ConvergenceWarning: Objective did not converge. You might want to increase the number of iterations, check the scale of the features or consider increasing regularisation. Duality gap: 7.917e+17, tolerance: 1.183e+15\n",
      "  model = cd_fast.enet_coordinate_descent(\n",
      "C:\\Users\\User\\anaconda3\\Lib\\site-packages\\sklearn\\linear_model\\_coordinate_descent.py:697: ConvergenceWarning: Objective did not converge. You might want to increase the number of iterations, check the scale of the features or consider increasing regularisation. Duality gap: 6.856e+17, tolerance: 1.141e+15\n",
      "  model = cd_fast.enet_coordinate_descent(\n",
      "C:\\Users\\User\\anaconda3\\Lib\\site-packages\\sklearn\\linear_model\\_coordinate_descent.py:697: ConvergenceWarning: Objective did not converge. You might want to increase the number of iterations, check the scale of the features or consider increasing regularisation. Duality gap: 7.377e+17, tolerance: 1.247e+15\n",
      "  model = cd_fast.enet_coordinate_descent(\n",
      "C:\\Users\\User\\anaconda3\\Lib\\site-packages\\sklearn\\linear_model\\_coordinate_descent.py:697: ConvergenceWarning: Objective did not converge. You might want to increase the number of iterations, check the scale of the features or consider increasing regularisation. Duality gap: 8.169e+17, tolerance: 1.217e+15\n",
      "  model = cd_fast.enet_coordinate_descent(\n",
      "C:\\Users\\User\\anaconda3\\Lib\\site-packages\\sklearn\\model_selection\\_validation.py:540: FitFailedWarning: \n",
      "10 fits failed out of a total of 20.\n",
      "The score on these train-test partitions for these parameters will be set to nan.\n",
      "If these failures are not expected, you can try to debug them by setting error_score='raise'.\n",
      "\n",
      "Below are more details about the failures:\n",
      "--------------------------------------------------------------------------------\n",
      "10 fits failed with the following error:\n",
      "Traceback (most recent call last):\n",
      "  File \"C:\\Users\\User\\anaconda3\\Lib\\site-packages\\sklearn\\model_selection\\_validation.py\", line 888, in _fit_and_score\n",
      "    estimator.fit(X_train, y_train, **fit_params)\n",
      "  File \"C:\\Users\\User\\anaconda3\\Lib\\site-packages\\sklearn\\base.py\", line 1466, in wrapper\n",
      "    estimator._validate_params()\n",
      "  File \"C:\\Users\\User\\anaconda3\\Lib\\site-packages\\sklearn\\base.py\", line 666, in _validate_params\n",
      "    validate_parameter_constraints(\n",
      "  File \"C:\\Users\\User\\anaconda3\\Lib\\site-packages\\sklearn\\utils\\_param_validation.py\", line 95, in validate_parameter_constraints\n",
      "    raise InvalidParameterError(\n",
      "sklearn.utils._param_validation.InvalidParameterError: The 'criterion' parameter of DecisionTreeRegressor must be a str among {'friedman_mse', 'poisson', 'absolute_error', 'squared_error'}. Got 'mse' instead.\n",
      "\n",
      "  warnings.warn(some_fits_failed_message, FitFailedWarning)\n",
      "C:\\Users\\User\\anaconda3\\Lib\\site-packages\\sklearn\\model_selection\\_search.py:1102: UserWarning: One or more of the test scores are non-finite: [       nan        nan 0.96526229 0.95883058]\n",
      "  warnings.warn(\n",
      "C:\\Users\\User\\anaconda3\\Lib\\site-packages\\sklearn\\model_selection\\_validation.py:540: FitFailedWarning: \n",
      "90 fits failed out of a total of 270.\n",
      "The score on these train-test partitions for these parameters will be set to nan.\n",
      "If these failures are not expected, you can try to debug them by setting error_score='raise'.\n",
      "\n",
      "Below are more details about the failures:\n",
      "--------------------------------------------------------------------------------\n",
      "90 fits failed with the following error:\n",
      "Traceback (most recent call last):\n",
      "  File \"C:\\Users\\User\\anaconda3\\Lib\\site-packages\\sklearn\\model_selection\\_validation.py\", line 888, in _fit_and_score\n",
      "    estimator.fit(X_train, y_train, **fit_params)\n",
      "  File \"C:\\Users\\User\\anaconda3\\Lib\\site-packages\\sklearn\\base.py\", line 1466, in wrapper\n",
      "    estimator._validate_params()\n",
      "  File \"C:\\Users\\User\\anaconda3\\Lib\\site-packages\\sklearn\\base.py\", line 666, in _validate_params\n",
      "    validate_parameter_constraints(\n",
      "  File \"C:\\Users\\User\\anaconda3\\Lib\\site-packages\\sklearn\\utils\\_param_validation.py\", line 95, in validate_parameter_constraints\n",
      "    raise InvalidParameterError(\n",
      "sklearn.utils._param_validation.InvalidParameterError: The 'min_samples_split' parameter of GradientBoostingRegressor must be an int in the range [2, inf) or a float in the range (0.0, 1.0]. Got 1 instead.\n",
      "\n",
      "  warnings.warn(some_fits_failed_message, FitFailedWarning)\n",
      "C:\\Users\\User\\anaconda3\\Lib\\site-packages\\sklearn\\model_selection\\_search.py:1102: UserWarning: One or more of the test scores are non-finite: [        nan         nan  0.01022711  0.0210664   0.01022711  0.0210664\n",
      "         nan         nan  0.01428469  0.02909675  0.01428469  0.02909675\n",
      "         nan         nan  0.0154953   0.0312911   0.0154953   0.0312911\n",
      "         nan         nan  0.00027852  0.00138726  0.00027852  0.00138726\n",
      "         nan         nan  0.00068605  0.00220086  0.00068605  0.00220086\n",
      "         nan         nan  0.00080771  0.00244459  0.00080771  0.00244459\n",
      "         nan         nan -0.0007213  -0.00061018 -0.0007213  -0.00061018\n",
      "         nan         nan -0.00068053 -0.00052864 -0.00068053 -0.00052864\n",
      "         nan         nan -0.00066836 -0.0005043  -0.00066836 -0.0005043 ]\n",
      "  warnings.warn(\n"
     ]
    },
    {
     "data": {
      "text/html": [
       "<div>\n",
       "<style scoped>\n",
       "    .dataframe tbody tr th:only-of-type {\n",
       "        vertical-align: middle;\n",
       "    }\n",
       "\n",
       "    .dataframe tbody tr th {\n",
       "        vertical-align: top;\n",
       "    }\n",
       "\n",
       "    .dataframe thead th {\n",
       "        text-align: right;\n",
       "    }\n",
       "</style>\n",
       "<table border=\"1\" class=\"dataframe\">\n",
       "  <thead>\n",
       "    <tr style=\"text-align: right;\">\n",
       "      <th></th>\n",
       "      <th>model</th>\n",
       "      <th>best_score</th>\n",
       "      <th>best_params</th>\n",
       "    </tr>\n",
       "  </thead>\n",
       "  <tbody>\n",
       "    <tr>\n",
       "      <th>0</th>\n",
       "      <td>linear_regression</td>\n",
       "      <td>0.849580</td>\n",
       "      <td>{'fit_intercept': True}</td>\n",
       "    </tr>\n",
       "    <tr>\n",
       "      <th>1</th>\n",
       "      <td>lasso</td>\n",
       "      <td>0.849580</td>\n",
       "      <td>{'alpha': 2, 'selection': 'cyclic'}</td>\n",
       "    </tr>\n",
       "    <tr>\n",
       "      <th>2</th>\n",
       "      <td>decision_tree</td>\n",
       "      <td>0.965262</td>\n",
       "      <td>{'criterion': 'friedman_mse', 'splitter': 'best'}</td>\n",
       "    </tr>\n",
       "    <tr>\n",
       "      <th>3</th>\n",
       "      <td>GBR</td>\n",
       "      <td>0.031291</td>\n",
       "      <td>{'learning_rate': 0.01, 'max_depth': 3, 'min_s...</td>\n",
       "    </tr>\n",
       "  </tbody>\n",
       "</table>\n",
       "</div>"
      ],
      "text/plain": [
       "               model  best_score  \\\n",
       "0  linear_regression    0.849580   \n",
       "1              lasso    0.849580   \n",
       "2      decision_tree    0.965262   \n",
       "3                GBR    0.031291   \n",
       "\n",
       "                                         best_params  \n",
       "0                            {'fit_intercept': True}  \n",
       "1                {'alpha': 2, 'selection': 'cyclic'}  \n",
       "2  {'criterion': 'friedman_mse', 'splitter': 'best'}  \n",
       "3  {'learning_rate': 0.01, 'max_depth': 3, 'min_s...  "
      ]
     },
     "execution_count": 68,
     "metadata": {},
     "output_type": "execute_result"
    }
   ],
   "source": [
    "from sklearn.model_selection import GridSearchCV\n",
    "\n",
    "from sklearn.linear_model import Lasso\n",
    "from sklearn.tree import DecisionTreeRegressor\n",
    "\n",
    "def find_best_model_using_gridsearchcv(X,y):\n",
    "    algos = {\n",
    "        'linear_regression' : {\n",
    "            'model': LinearRegression(),\n",
    "            'params': {\n",
    "                'fit_intercept': [True,False]\n",
    "            }\n",
    "        },\n",
    "        'lasso': {\n",
    "            'model': Lasso(),\n",
    "            'params': {\n",
    "                'alpha': [1,2],\n",
    "                'selection': ['random', 'cyclic']\n",
    "            }\n",
    "        },\n",
    "        'decision_tree': {\n",
    "            'model': DecisionTreeRegressor(),\n",
    "            'params': {\n",
    "                'criterion' : ['mse','friedman_mse'],\n",
    "                'splitter': ['best','random']\n",
    "            }\n",
    "        },\n",
    "        'GBR': {\n",
    "            'model': GradientBoostingRegressor(),\n",
    "            'params' :{'n_estimators':[1,2],\n",
    "                        'max_depth':[1,2,3],\n",
    "                         'min_samples_split':[1,2,3],\n",
    "                        'learning_rate': [0.01,0.001,0.0001],\n",
    "                   }\n",
    "        }\n",
    "    }\n",
    "    scores = []\n",
    "    cv = ShuffleSplit(n_splits=5, test_size=0.2, random_state=0)\n",
    "    for algo_name, config in algos.items():\n",
    "        gs =  GridSearchCV(config['model'], config['params'], cv=cv, return_train_score=False)\n",
    "        gs.fit(X,y)\n",
    "        scores.append({\n",
    "            'model': algo_name,\n",
    "            'best_score': gs.best_score_,\n",
    "            'best_params': gs.best_params_\n",
    "        })\n",
    "\n",
    "    return pd.DataFrame(scores,columns=['model','best_score','best_params'])\n",
    "\n",
    "find_best_model_using_gridsearchcv(X,y)"
   ]
  },
  {
   "cell_type": "markdown",
   "id": "2ffe14a4-ccbb-4ca4-8579-72b0a799ef25",
   "metadata": {},
   "source": [
    "#### Test the model for few properties"
   ]
  },
  {
   "cell_type": "code",
   "execution_count": 69,
   "id": "1c6c76ba-31ea-444f-8ac1-10ef1a6cfa8e",
   "metadata": {},
   "outputs": [],
   "source": [
    "def predict_price(location,sqft,bath,bhk):    \n",
    "    loc_index = np.where(X.columns==location)[0][0]\n",
    "\n",
    "    x = np.zeros(len(X.columns))\n",
    "    x[0] = sqft\n",
    "    x[1] = bath\n",
    "    x[2] = bhk\n",
    "    if loc_index >= 0:\n",
    "        x[loc_index] = 1\n",
    "    return lr.predict([x])[0]"
   ]
  },
  {
   "cell_type": "code",
   "execution_count": 81,
   "id": "eefbc197-9e43-4652-9c26-7d3b3a4b2434",
   "metadata": {},
   "outputs": [
    {
     "name": "stdout",
     "output_type": "stream",
     "text": [
      "11354003 Lakhs\n",
      "*------------------------------*\n",
      "6908832 Lakhs\n",
      "*------------------------------*\n",
      "10188484 Lakhs\n",
      "*------------------------------*\n",
      "10188484 Lakhs\n"
     ]
    },
    {
     "name": "stderr",
     "output_type": "stream",
     "text": [
      "C:\\Users\\User\\anaconda3\\Lib\\site-packages\\sklearn\\base.py:493: UserWarning: X does not have valid feature names, but GradientBoostingRegressor was fitted with feature names\n",
      "  warnings.warn(\n",
      "C:\\Users\\User\\anaconda3\\Lib\\site-packages\\sklearn\\base.py:493: UserWarning: X does not have valid feature names, but GradientBoostingRegressor was fitted with feature names\n",
      "  warnings.warn(\n",
      "C:\\Users\\User\\anaconda3\\Lib\\site-packages\\sklearn\\base.py:493: UserWarning: X does not have valid feature names, but GradientBoostingRegressor was fitted with feature names\n",
      "  warnings.warn(\n",
      "C:\\Users\\User\\anaconda3\\Lib\\site-packages\\sklearn\\base.py:493: UserWarning: X does not have valid feature names, but GradientBoostingRegressor was fitted with feature names\n",
      "  warnings.warn(\n"
     ]
    }
   ],
   "source": [
    "print(str(int(predict_price('Abid Town', 1905.757,6, 5))) + \" Lakhs\")\n",
    "\n",
    "print(\"*------------------------------*\")\n",
    "print(str(int(predict_price('Abid Town', 190.757, 3, 2))) + \" Lakhs\")\n",
    "\n",
    "print(\"*------------------------------*\")\n",
    "print(str(int(predict_price('Bahria Town Karachi', 1904.757, 6, 5))) + \" Lakhs\")\n",
    "\n",
    "print(\"*------------------------------*\")\n",
    "print(str(int(predict_price('Bahria Town Karachi', 12312.757,7, 6))) + \" Lakhs\")"
   ]
  },
  {
   "cell_type": "code",
   "execution_count": 79,
   "id": "08b7c7cd-e366-4468-9ff0-2986cff3d750",
   "metadata": {},
   "outputs": [],
   "source": [
    "def predict_price(location,sqft,bath,bhk):    \n",
    "    loc_index = np.where(X.columns==location)[0][0]\n",
    "\n",
    "    x = np.zeros(len(X.columns))\n",
    "    x[0] = sqft\n",
    "    x[1] = bath\n",
    "    x[2] = bhk\n",
    "    if loc_index >= 0:\n",
    "        x[loc_index] = 1\n",
    "    return gbr.predict([x])[0]"
   ]
  },
  {
   "cell_type": "code",
   "execution_count": 80,
   "id": "80c70cf3-1202-42df-9b18-ffb8911ae7be",
   "metadata": {},
   "outputs": [
    {
     "name": "stdout",
     "output_type": "stream",
     "text": [
      "8652255 Lakhs\n",
      "*------------------------------*\n",
      "6908832 Lakhs\n",
      "*------------------------------*\n",
      "10188484 Lakhs\n",
      "*------------------------------*\n",
      "8740898 Lakhs\n"
     ]
    },
    {
     "name": "stderr",
     "output_type": "stream",
     "text": [
      "C:\\Users\\User\\anaconda3\\Lib\\site-packages\\sklearn\\base.py:493: UserWarning: X does not have valid feature names, but GradientBoostingRegressor was fitted with feature names\n",
      "  warnings.warn(\n",
      "C:\\Users\\User\\anaconda3\\Lib\\site-packages\\sklearn\\base.py:493: UserWarning: X does not have valid feature names, but GradientBoostingRegressor was fitted with feature names\n",
      "  warnings.warn(\n",
      "C:\\Users\\User\\anaconda3\\Lib\\site-packages\\sklearn\\base.py:493: UserWarning: X does not have valid feature names, but GradientBoostingRegressor was fitted with feature names\n",
      "  warnings.warn(\n",
      "C:\\Users\\User\\anaconda3\\Lib\\site-packages\\sklearn\\base.py:493: UserWarning: X does not have valid feature names, but GradientBoostingRegressor was fitted with feature names\n",
      "  warnings.warn(\n"
     ]
    }
   ],
   "source": [
    "print(str(int(predict_price('Abid Town', 1100.757,4, 4))) + \" Lakhs\")\n",
    "\n",
    "print(\"*------------------------------*\")\n",
    "print(str(int(predict_price('Abid Town', 190.757, 3, 2))) + \" Lakhs\")\n",
    "\n",
    "print(\"*------------------------------*\")\n",
    "print(str(int(predict_price('Bahria Town Karachi', 1904.757, 6, 5))) + \" Lakhs\")\n",
    "\n",
    "print(\"*------------------------------*\")\n",
    "print(str(int(predict_price('Bahria Town Karachi', .757,7, 6))) + \" Lakhs\")"
   ]
  },
  {
   "cell_type": "markdown",
   "id": "29507994-1ffc-4866-a792-e03ee43042dd",
   "metadata": {},
   "source": [
    "### 7.Deployment Preparation\n",
    "##### Model Saving:\n",
    "Save the model using libraries like pickle.\n",
    "Example: import pickle; pickle.dump(model, open(\"model.pkl\", \"wb\"))\n",
    "##### Consider Deployment Options:\n",
    "Using Flask"
   ]
  },
  {
   "cell_type": "code",
   "execution_count": 82,
   "id": "177d475c-992f-45b5-8d1c-7c2d475d1fc2",
   "metadata": {},
   "outputs": [],
   "source": [
    "import pickle\n",
    "with open('karachi_home_prices_model.pickle','wb') as f:\n",
    "    pickle.dump(gbr,f)"
   ]
  },
  {
   "cell_type": "code",
   "execution_count": 83,
   "id": "52add5bb-e998-4c3a-8e96-663271acbaf5",
   "metadata": {},
   "outputs": [],
   "source": [
    "import json\n",
    "columns = {\n",
    "    'data_columns' : [col.lower() for col in X.columns]\n",
    "}\n",
    "with open(\"columns.json\",\"w\") as f:\n",
    "    f.write(json.dumps(columns))"
   ]
  },
  {
   "cell_type": "code",
   "execution_count": null,
   "id": "af4807dc-897c-4a92-ae02-762e275ecfbb",
   "metadata": {},
   "outputs": [],
   "source": []
  },
  {
   "cell_type": "code",
   "execution_count": null,
   "id": "7d48f96f-f742-4b65-ac47-8fb4906e4344",
   "metadata": {},
   "outputs": [],
   "source": []
  },
  {
   "cell_type": "code",
   "execution_count": null,
   "id": "31c4c0b0-9c43-4666-b78c-9e16ac7f13ba",
   "metadata": {},
   "outputs": [],
   "source": []
  }
 ],
 "metadata": {
  "kernelspec": {
   "display_name": "Python 3 (ipykernel)",
   "language": "python",
   "name": "python3"
  },
  "language_info": {
   "codemirror_mode": {
    "name": "ipython",
    "version": 3
   },
   "file_extension": ".py",
   "mimetype": "text/x-python",
   "name": "python",
   "nbconvert_exporter": "python",
   "pygments_lexer": "ipython3",
   "version": "3.12.7"
  }
 },
 "nbformat": 4,
 "nbformat_minor": 5
}
